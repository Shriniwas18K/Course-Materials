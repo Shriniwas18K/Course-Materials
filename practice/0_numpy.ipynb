{
 "cells": [
  {
   "cell_type": "markdown",
   "id": "e1d5db90",
   "metadata": {},
   "source": [
    "## this notebook contains maximum of numpy used functions in all use cases : broadcasting concept is not written here , so look it as it important for understanding many numpy and pandas functions"
   ]
  },
  {
   "cell_type": "code",
   "execution_count": 1,
   "id": "06534f80",
   "metadata": {},
   "outputs": [],
   "source": [
    "import numpy as np\n",
    "import pandas as pd\n",
    "import matplotlib.pyplot as plt\n",
    "import seaborn as sns"
   ]
  },
  {
   "cell_type": "markdown",
   "id": "caac06dd",
   "metadata": {},
   "source": [
    "###### 1 d array  : [1 ,4 ,5 ,7 ,34 ,6 ,90]                                                                                                          shape : (1,7)\n",
    "###### 2 d array : [ [1 ,3, 5,3,6 ,5],[54,45,3,254,6,90],[34,45,2,5,9,0],[45,4,2,1,0,9] ]                                    shape : (4,6)\n",
    "###### 3d array : [ [ [ 23,45,546],[345,54,456],[456,56,45],[56,34,23],[324,43,2 ] ] ]                                   shape : (1,5,3)\n",
    "###### nd array : [ [ [ [ [ [ [... n times"
   ]
  },
  {
   "cell_type": "code",
   "execution_count": 2,
   "id": "06b5de1f",
   "metadata": {},
   "outputs": [
    {
     "data": {
      "text/plain": [
       "array([ 10,  44,  78, 112, 146, 180, 214])"
      ]
     },
     "execution_count": 2,
     "metadata": {},
     "output_type": "execute_result"
    }
   ],
   "source": [
    "np.arange(10,234,34)"
   ]
  },
  {
   "cell_type": "markdown",
   "id": "c7aab7a8",
   "metadata": {},
   "source": [
    "### now this thing done above only prints the array formed , it does not store it \n",
    "### to store we need to manually in variable , and this happens for maximum of numpy funcns\n",
    "### same kind of behaviour with pandas dataframes and their functions"
   ]
  },
  {
   "cell_type": "code",
   "execution_count": 3,
   "id": "062c441b",
   "metadata": {},
   "outputs": [
    {
     "data": {
      "text/plain": [
       "array([ 10,  44,  78, 112, 146, 180, 214])"
      ]
     },
     "execution_count": 3,
     "metadata": {},
     "output_type": "execute_result"
    }
   ],
   "source": [
    "a=np.arange(10,234,34)\n",
    "a"
   ]
  },
  {
   "cell_type": "markdown",
   "id": "8ab0f7b3",
   "metadata": {},
   "source": [
    "##### to get shape of any array "
   ]
  },
  {
   "cell_type": "code",
   "execution_count": 5,
   "id": "0cd520d2",
   "metadata": {},
   "outputs": [
    {
     "data": {
      "text/plain": [
       "(7,)"
      ]
     },
     "execution_count": 5,
     "metadata": {},
     "output_type": "execute_result"
    }
   ],
   "source": [
    "a.shape"
   ]
  },
  {
   "cell_type": "markdown",
   "id": "e36126f1",
   "metadata": {},
   "source": [
    "##### arrays can be accessed the same way as list "
   ]
  },
  {
   "cell_type": "code",
   "execution_count": 73,
   "id": "d40eda05",
   "metadata": {},
   "outputs": [
    {
     "data": {
      "text/plain": [
       "214"
      ]
     },
     "execution_count": 73,
     "metadata": {},
     "output_type": "execute_result"
    }
   ],
   "source": [
    "a[6]"
   ]
  },
  {
   "cell_type": "code",
   "execution_count": 74,
   "id": "c6fbd021",
   "metadata": {},
   "outputs": [
    {
     "data": {
      "text/plain": [
       "array([ 10,  78, 146, 214])"
      ]
     },
     "execution_count": 74,
     "metadata": {},
     "output_type": "execute_result"
    }
   ],
   "source": [
    "a[:9:2]"
   ]
  },
  {
   "cell_type": "code",
   "execution_count": 71,
   "id": "43e61a42",
   "metadata": {},
   "outputs": [
    {
     "data": {
      "text/plain": [
       "array([214, 180, 146, 112,  78,  44,  10])"
      ]
     },
     "execution_count": 71,
     "metadata": {},
     "output_type": "execute_result"
    }
   ],
   "source": [
    "a[::-1]"
   ]
  },
  {
   "cell_type": "markdown",
   "id": "897ff85c",
   "metadata": {},
   "source": [
    "### array creation methods"
   ]
  },
  {
   "cell_type": "code",
   "execution_count": 4,
   "id": "cec35adf",
   "metadata": {},
   "outputs": [],
   "source": [
    "arr_1d=np.array([12,43,342,23])"
   ]
  },
  {
   "cell_type": "code",
   "execution_count": 5,
   "id": "a68c91c0",
   "metadata": {},
   "outputs": [
    {
     "data": {
      "text/plain": [
       "array([ 12,  43, 342,  23])"
      ]
     },
     "execution_count": 5,
     "metadata": {},
     "output_type": "execute_result"
    }
   ],
   "source": [
    "arr_1d"
   ]
  },
  {
   "cell_type": "code",
   "execution_count": 6,
   "id": "2e85dcd9",
   "metadata": {},
   "outputs": [],
   "source": [
    "arr_2d=np.matrix([[1,2,4],\n",
    "                 [42,324,234],\n",
    "                 [34,42,23]])"
   ]
  },
  {
   "cell_type": "code",
   "execution_count": 7,
   "id": "9a808b93",
   "metadata": {},
   "outputs": [
    {
     "data": {
      "text/plain": [
       "matrix([[  1,   2,   4],\n",
       "        [ 42, 324, 234],\n",
       "        [ 34,  42,  23]])"
      ]
     },
     "execution_count": 7,
     "metadata": {},
     "output_type": "execute_result"
    }
   ],
   "source": [
    "arr_2d"
   ]
  },
  {
   "cell_type": "code",
   "execution_count": 8,
   "id": "02b6cf97",
   "metadata": {},
   "outputs": [
    {
     "data": {
      "text/plain": [
       "array([[[0., 0.],\n",
       "        [0., 0.],\n",
       "        [0., 0.],\n",
       "        [0., 0.],\n",
       "        [0., 0.]],\n",
       "\n",
       "       [[0., 0.],\n",
       "        [0., 0.],\n",
       "        [0., 0.],\n",
       "        [0., 0.],\n",
       "        [0., 0.]],\n",
       "\n",
       "       [[0., 0.],\n",
       "        [0., 0.],\n",
       "        [0., 0.],\n",
       "        [0., 0.],\n",
       "        [0., 0.]]])"
      ]
     },
     "execution_count": 8,
     "metadata": {},
     "output_type": "execute_result"
    }
   ],
   "source": [
    "np.zeros((3,5,2))"
   ]
  },
  {
   "cell_type": "code",
   "execution_count": 9,
   "id": "c74e98d5",
   "metadata": {},
   "outputs": [
    {
     "data": {
      "text/plain": [
       "array([[0., 0.],\n",
       "       [0., 0.],\n",
       "       [0., 0.],\n",
       "       [0., 0.],\n",
       "       [0., 0.]])"
      ]
     },
     "execution_count": 9,
     "metadata": {},
     "output_type": "execute_result"
    }
   ],
   "source": [
    "np.zeros((5,2))"
   ]
  },
  {
   "cell_type": "markdown",
   "id": "61ad88a8",
   "metadata": {},
   "source": [
    "###### same kind of syntax and working of np.ones and np.empty "
   ]
  },
  {
   "cell_type": "code",
   "execution_count": 10,
   "id": "5f029c9d",
   "metadata": {},
   "outputs": [
    {
     "data": {
      "text/plain": [
       "dtype('float64')"
      ]
     },
     "execution_count": 10,
     "metadata": {},
     "output_type": "execute_result"
    }
   ],
   "source": [
    "np.ones(10).dtype"
   ]
  },
  {
   "cell_type": "code",
   "execution_count": 11,
   "id": "4dee69e1",
   "metadata": {},
   "outputs": [
    {
     "data": {
      "text/plain": [
       "array([[1, 1, 1, 1, 1],\n",
       "       [1, 1, 1, 1, 1]])"
      ]
     },
     "execution_count": 11,
     "metadata": {},
     "output_type": "execute_result"
    }
   ],
   "source": [
    "np.ones((2,5),dtype='int32')"
   ]
  },
  {
   "cell_type": "code",
   "execution_count": 12,
   "id": "4c5c2981",
   "metadata": {},
   "outputs": [
    {
     "data": {
      "text/plain": [
       "array([[ 41, 216,  27, 272,  27],\n",
       "       [216,  41,   0,   0,   0],\n",
       "       [  0,   0,   0,   0,   0]])"
      ]
     },
     "execution_count": 12,
     "metadata": {},
     "output_type": "execute_result"
    }
   ],
   "source": [
    "np.empty((3,5),dtype='int32')"
   ]
  },
  {
   "cell_type": "code",
   "execution_count": 13,
   "id": "d3e8ede1",
   "metadata": {},
   "outputs": [
    {
     "data": {
      "text/plain": [
       "array([ 12,  43, 342,  23])"
      ]
     },
     "execution_count": 13,
     "metadata": {},
     "output_type": "execute_result"
    }
   ],
   "source": [
    "arr_1d"
   ]
  },
  {
   "cell_type": "markdown",
   "id": "ae367ae7",
   "metadata": {},
   "source": [
    "##### arange (end bound not included ) : works like python range function of for loops"
   ]
  },
  {
   "cell_type": "code",
   "execution_count": 14,
   "id": "b702d6f6",
   "metadata": {},
   "outputs": [],
   "source": [
    "arr=np.arange(10,42,1.5)"
   ]
  },
  {
   "cell_type": "code",
   "execution_count": 15,
   "id": "f99337cc",
   "metadata": {},
   "outputs": [
    {
     "data": {
      "text/plain": [
       "array([10. , 11.5, 13. , 14.5, 16. , 17.5, 19. , 20.5, 22. , 23.5, 25. ,\n",
       "       26.5, 28. , 29.5, 31. , 32.5, 34. , 35.5, 37. , 38.5, 40. , 41.5])"
      ]
     },
     "execution_count": 15,
     "metadata": {},
     "output_type": "execute_result"
    }
   ],
   "source": [
    "arr"
   ]
  },
  {
   "cell_type": "markdown",
   "id": "24ebc61b",
   "metadata": {},
   "source": [
    "##### to get equal intervals from given two no.s"
   ]
  },
  {
   "cell_type": "code",
   "execution_count": 16,
   "id": "8f53c5a8",
   "metadata": {},
   "outputs": [
    {
     "data": {
      "text/plain": [
       "array([1.        , 1.57142857, 2.14285714, 2.71428571, 3.28571429,\n",
       "       3.85714286, 4.42857143, 5.        ])"
      ]
     },
     "execution_count": 16,
     "metadata": {},
     "output_type": "execute_result"
    }
   ],
   "source": [
    "np.linspace(1,5,8)"
   ]
  },
  {
   "cell_type": "markdown",
   "id": "a7c325bd",
   "metadata": {},
   "source": [
    "###### to get any number of random integers between given range (excluding upper bound) we use np.random.randint "
   ]
  },
  {
   "cell_type": "code",
   "execution_count": 17,
   "id": "952b1e2d",
   "metadata": {},
   "outputs": [
    {
     "data": {
      "text/plain": [
       "array([57, 99, 48, 54, 57, 32, 72, 90, 64, 28, 41, 69, 19, 56, 53, 80, 16,\n",
       "       42, 21, 36, 55, 95, 74, 93, 62, 10, 33, 25, 10, 75, 71, 95, 68, 12,\n",
       "       23, 53, 60, 42, 85, 82, 58, 35, 48, 37, 91])"
      ]
     },
     "execution_count": 17,
     "metadata": {},
     "output_type": "execute_result"
    }
   ],
   "source": [
    "np.random.randint(10,100,45)"
   ]
  },
  {
   "cell_type": "markdown",
   "id": "f9b6d1ab",
   "metadata": {},
   "source": [
    "###### to get random floating point numbers between given range we use np.random.rand , its parameters are diffirent from randint so be careful while using them , they both are not similar"
   ]
  },
  {
   "cell_type": "code",
   "execution_count": 18,
   "id": "4b759da9",
   "metadata": {},
   "outputs": [
    {
     "data": {
      "text/plain": [
       "array([0.49747663, 0.01983959, 0.67540043, 0.92644978, 0.12646706,\n",
       "       0.36225326, 0.20098999, 0.07538946, 0.49415672, 0.80355514,\n",
       "       0.48147193, 0.32109892, 0.47043849, 0.18573594, 0.73579093,\n",
       "       0.44150729, 0.33993749, 0.92447049, 0.38215404, 0.30948183,\n",
       "       0.55995896, 0.81255544, 0.76742262, 0.08527033, 0.09973487,\n",
       "       0.88688496, 0.12178969, 0.18295632, 0.49669163, 0.74138442,\n",
       "       0.12520055, 0.91944658, 0.96189089, 0.24611599, 0.52618188,\n",
       "       0.49818145, 0.50718675, 0.73361358, 0.67279955, 0.0372274 ,\n",
       "       0.57665312, 0.466738  , 0.8140855 , 0.54921226, 0.79738882])"
      ]
     },
     "execution_count": 18,
     "metadata": {},
     "output_type": "execute_result"
    }
   ],
   "source": [
    "np.random.rand(45)"
   ]
  },
  {
   "cell_type": "markdown",
   "id": "305455ba",
   "metadata": {},
   "source": [
    "###### to create arrays with all numbers in normal distribution we use np.random.normal "
   ]
  },
  {
   "cell_type": "code",
   "execution_count": 19,
   "id": "bbfbe8e1",
   "metadata": {},
   "outputs": [
    {
     "data": {
      "text/plain": [
       "array([[[-0.80273902],\n",
       "        [-1.37629641],\n",
       "        [-0.0252409 ]],\n",
       "\n",
       "       [[-1.44667484],\n",
       "        [-0.26102471],\n",
       "        [-1.05106182]],\n",
       "\n",
       "       [[-1.48208314],\n",
       "        [ 0.69844437],\n",
       "        [-0.06064242]]])"
      ]
     },
     "execution_count": 19,
     "metadata": {},
     "output_type": "execute_result"
    }
   ],
   "source": [
    "np.random.normal(size=(3,3,1))"
   ]
  },
  {
   "cell_type": "markdown",
   "id": "dfe7d467",
   "metadata": {},
   "source": [
    "##### reshape funcn : it is used to change the dimension as well as shape of arrays , and more hence commonly used to create any kind of arrays"
   ]
  },
  {
   "cell_type": "code",
   "execution_count": 20,
   "id": "3f0e55bf",
   "metadata": {},
   "outputs": [
    {
     "data": {
      "text/plain": [
       "array([[[0.79189888],\n",
       "        [0.05200537]],\n",
       "\n",
       "       [[0.71588649],\n",
       "        [0.24327997]],\n",
       "\n",
       "       [[0.88098294],\n",
       "        [0.10327228]],\n",
       "\n",
       "       [[0.25218136],\n",
       "        [0.42158956]],\n",
       "\n",
       "       [[0.06265178],\n",
       "        [0.69657731]]])"
      ]
     },
     "execution_count": 20,
     "metadata": {},
     "output_type": "execute_result"
    }
   ],
   "source": [
    "arr_3d=np.random.random(10).reshape(5,2,1)\n",
    "arr_3d"
   ]
  },
  {
   "cell_type": "markdown",
   "id": "d4766e39",
   "metadata": {},
   "source": [
    "##### to convert ndarray to 1d array "
   ]
  },
  {
   "cell_type": "code",
   "execution_count": 21,
   "id": "bfa663b0",
   "metadata": {},
   "outputs": [
    {
     "data": {
      "text/plain": [
       "array([0.79189888, 0.05200537, 0.71588649, 0.24327997, 0.88098294,\n",
       "       0.10327228, 0.25218136, 0.42158956, 0.06265178, 0.69657731])"
      ]
     },
     "execution_count": 21,
     "metadata": {},
     "output_type": "execute_result"
    }
   ],
   "source": [
    "np.ravel(arr_3d)"
   ]
  },
  {
   "cell_type": "markdown",
   "id": "4681f3a3",
   "metadata": {},
   "source": [
    "### matrix operations"
   ]
  },
  {
   "cell_type": "markdown",
   "id": "77b9597d",
   "metadata": {},
   "source": [
    "##### matrix transpose"
   ]
  },
  {
   "cell_type": "code",
   "execution_count": 22,
   "id": "37bc42a9",
   "metadata": {},
   "outputs": [
    {
     "data": {
      "text/plain": [
       "matrix([[  1,  42,  34],\n",
       "        [  2, 324,  42],\n",
       "        [  4, 234,  23]])"
      ]
     },
     "execution_count": 22,
     "metadata": {},
     "output_type": "execute_result"
    }
   ],
   "source": [
    "arr_2d.T"
   ]
  },
  {
   "cell_type": "code",
   "execution_count": 23,
   "id": "da2d4c47",
   "metadata": {},
   "outputs": [
    {
     "data": {
      "text/plain": [
       "matrix([[  1,  42,  34],\n",
       "        [  2, 324,  42],\n",
       "        [  4, 234,  23]])"
      ]
     },
     "execution_count": 23,
     "metadata": {},
     "output_type": "execute_result"
    }
   ],
   "source": [
    "arr_2d.transpose()"
   ]
  },
  {
   "cell_type": "code",
   "execution_count": 24,
   "id": "77660dd5",
   "metadata": {},
   "outputs": [
    {
     "data": {
      "text/plain": [
       "array([[1, 2, 3],\n",
       "       [4, 5, 6],\n",
       "       [7, 8, 9]])"
      ]
     },
     "execution_count": 24,
     "metadata": {},
     "output_type": "execute_result"
    }
   ],
   "source": [
    "mat=np.arange(1,10,1).reshape(3,3)\n",
    "mat"
   ]
  },
  {
   "cell_type": "markdown",
   "id": "2ecf1e3b",
   "metadata": {},
   "source": [
    "##### matrix dot product: similarly we have multidot , matmul functions"
   ]
  },
  {
   "cell_type": "code",
   "execution_count": 25,
   "id": "35c83853",
   "metadata": {},
   "outputs": [
    {
     "data": {
      "text/plain": [
       "matrix([[  37,   44,   51],\n",
       "        [2976, 3576, 4176],\n",
       "        [ 363,  462,  561]])"
      ]
     },
     "execution_count": 25,
     "metadata": {},
     "output_type": "execute_result"
    }
   ],
   "source": [
    "np.dot(arr_2d,mat)"
   ]
  },
  {
   "cell_type": "markdown",
   "id": "8b52842b",
   "metadata": {},
   "source": [
    "##### pseudoinverse of rectangular matrix , inverse doesnot exist for rectangular matrix"
   ]
  },
  {
   "cell_type": "code",
   "execution_count": 26,
   "id": "e3dfdb24",
   "metadata": {},
   "outputs": [
    {
     "data": {
      "text/plain": [
       "array([[-6.38888889e-01, -1.66666667e-01,  3.05555556e-01],\n",
       "       [-5.55555556e-02,  5.50468329e-17,  5.55555556e-02],\n",
       "       [ 5.27777778e-01,  1.66666667e-01, -1.94444444e-01]])"
      ]
     },
     "execution_count": 26,
     "metadata": {},
     "output_type": "execute_result"
    }
   ],
   "source": [
    "np.linalg.pinv(mat)"
   ]
  },
  {
   "cell_type": "markdown",
   "id": "b786eae4",
   "metadata": {},
   "source": [
    "##### pseudoinverse and inverse are same for square matrix"
   ]
  },
  {
   "cell_type": "code",
   "execution_count": 27,
   "id": "7d1190b5",
   "metadata": {},
   "outputs": [
    {
     "data": {
      "text/plain": [
       "matrix([[ 0.09352858, -0.00480239,  0.03259329],\n",
       "        [-0.27515352,  0.00444812,  0.00259802],\n",
       "        [ 0.36419462, -0.00102346, -0.00944733]])"
      ]
     },
     "execution_count": 27,
     "metadata": {},
     "output_type": "execute_result"
    }
   ],
   "source": [
    "np.linalg.inv(arr_2d)"
   ]
  },
  {
   "cell_type": "markdown",
   "id": "36290f6a",
   "metadata": {},
   "source": [
    "###### rank of a matrix "
   ]
  },
  {
   "cell_type": "code",
   "execution_count": 28,
   "id": "0cc161ad",
   "metadata": {},
   "outputs": [
    {
     "data": {
      "text/plain": [
       "3"
      ]
     },
     "execution_count": 28,
     "metadata": {},
     "output_type": "execute_result"
    }
   ],
   "source": [
    "np.linalg.matrix_rank(arr_2d)"
   ]
  },
  {
   "cell_type": "markdown",
   "id": "ff9373db",
   "metadata": {},
   "source": [
    "###### determinant of matrix "
   ]
  },
  {
   "cell_type": "code",
   "execution_count": 29,
   "id": "dc9b297e",
   "metadata": {},
   "outputs": [
    {
     "data": {
      "text/plain": [
       "-25404.0"
      ]
     },
     "execution_count": 29,
     "metadata": {},
     "output_type": "execute_result"
    }
   ],
   "source": [
    "np.linalg.det(arr_2d)"
   ]
  },
  {
   "cell_type": "markdown",
   "id": "1ddc67c9",
   "metadata": {},
   "source": [
    "###### eigen values of matrix "
   ]
  },
  {
   "cell_type": "code",
   "execution_count": 30,
   "id": "5a9551c7",
   "metadata": {},
   "outputs": [
    {
     "data": {
      "text/plain": [
       "array([354.14790384,   5.93614918, -12.08405302])"
      ]
     },
     "execution_count": 30,
     "metadata": {},
     "output_type": "execute_result"
    }
   ],
   "source": [
    "np.linalg.eigvals(arr_2d)"
   ]
  },
  {
   "cell_type": "markdown",
   "id": "583e485e",
   "metadata": {},
   "source": [
    "###### eigen matrix of the matrix "
   ]
  },
  {
   "cell_type": "code",
   "execution_count": 31,
   "id": "904278e6",
   "metadata": {},
   "outputs": [
    {
     "data": {
      "text/plain": [
       "(array([354.14790384,   5.93614918, -12.08405302]),\n",
       " matrix([[-0.00705089, -0.35498148, -0.1663677 ],\n",
       "         [-0.99193735,  0.58397048, -0.54934734],\n",
       "         [-0.12653288, -0.73004563,  0.81886463]]))"
      ]
     },
     "execution_count": 31,
     "metadata": {},
     "output_type": "execute_result"
    }
   ],
   "source": [
    "np.linalg.eig(arr_2d)"
   ]
  },
  {
   "cell_type": "code",
   "execution_count": 32,
   "id": "03e69d8e",
   "metadata": {},
   "outputs": [
    {
     "data": {
      "text/plain": [
       "array([[1],\n",
       "       [3],\n",
       "       [3],\n",
       "       [3],\n",
       "       [3],\n",
       "       [3],\n",
       "       [3],\n",
       "       [2]])"
      ]
     },
     "execution_count": 32,
     "metadata": {},
     "output_type": "execute_result"
    }
   ],
   "source": [
    "np.vstack([1,3,3,3,3,3,3,2])"
   ]
  },
  {
   "cell_type": "markdown",
   "id": "66c50c12",
   "metadata": {},
   "source": [
    "###### singular value decomposition "
   ]
  },
  {
   "cell_type": "code",
   "execution_count": 33,
   "id": "c1c5ef4b",
   "metadata": {},
   "outputs": [
    {
     "data": {
      "text/plain": [
       "(matrix([[-0.00999119,  0.00389136, -0.99994252],\n",
       "         [-0.99196952, -0.12612578,  0.00942069],\n",
       "         [-0.12608187,  0.99200663,  0.00512026]]),\n",
       " array([405.10190991,  29.22048656,   2.14610205]),\n",
       " matrix([[-0.11345169, -0.80649718, -0.58025082],\n",
       "         [ 0.97311294,  0.02762813, -0.22866544],\n",
       "         [-0.20044927,  0.59059207, -0.78167839]]))"
      ]
     },
     "execution_count": 33,
     "metadata": {},
     "output_type": "execute_result"
    }
   ],
   "source": [
    "np.linalg.svd(arr_2d)"
   ]
  },
  {
   "cell_type": "markdown",
   "id": "7f8a9743",
   "metadata": {},
   "source": [
    "###### matrix power calculation "
   ]
  },
  {
   "cell_type": "code",
   "execution_count": 34,
   "id": "0cc5fbd8",
   "metadata": {},
   "outputs": [
    {
     "data": {
      "text/plain": [
       "matrix([[   19177669,   102417250,    72600084],\n",
       "        [-1597997962,  1523385336,  1624001638],\n",
       "        [  343997172,  1837939042,  1302919141]])"
      ]
     },
     "execution_count": 34,
     "metadata": {},
     "output_type": "execute_result"
    }
   ],
   "source": [
    "np.linalg.matrix_power(arr_2d,4)"
   ]
  },
  {
   "cell_type": "markdown",
   "id": "f44787b8",
   "metadata": {},
   "source": [
    "###### norm or magnitude of matrix or vector "
   ]
  },
  {
   "cell_type": "code",
   "execution_count": 35,
   "id": "19d3fb7b",
   "metadata": {},
   "outputs": [
    {
     "data": {
      "text/plain": [
       "406.16006696867674"
      ]
     },
     "execution_count": 35,
     "metadata": {},
     "output_type": "execute_result"
    }
   ],
   "source": [
    "np.linalg.norm(arr_2d)"
   ]
  },
  {
   "cell_type": "markdown",
   "id": "0e714279",
   "metadata": {},
   "source": [
    "##### lcm and gcd calculation "
   ]
  },
  {
   "cell_type": "code",
   "execution_count": 36,
   "id": "fe0fe6a6",
   "metadata": {},
   "outputs": [
    {
     "data": {
      "text/plain": [
       "10581480"
      ]
     },
     "execution_count": 36,
     "metadata": {},
     "output_type": "execute_result"
    }
   ],
   "source": [
    "np.math.lcm(1235,12,34,56,45)"
   ]
  },
  {
   "cell_type": "code",
   "execution_count": 37,
   "id": "cb033bf1",
   "metadata": {},
   "outputs": [
    {
     "data": {
      "text/plain": [
       "2"
      ]
     },
     "execution_count": 37,
     "metadata": {},
     "output_type": "execute_result"
    }
   ],
   "source": [
    "np.math.gcd(124,12,35442,4)"
   ]
  },
  {
   "cell_type": "markdown",
   "id": "c3db31d7",
   "metadata": {},
   "source": [
    "###### np.sin , cos , tan functions :all list take radian values as arguements "
   ]
  },
  {
   "cell_type": "code",
   "execution_count": 38,
   "id": "7ebf567d",
   "metadata": {},
   "outputs": [
    {
     "data": {
      "text/plain": [
       "array([0.99999968, 0.00159265])"
      ]
     },
     "execution_count": 38,
     "metadata": {},
     "output_type": "execute_result"
    }
   ],
   "source": [
    "np.sin([1.57,3.14])"
   ]
  },
  {
   "cell_type": "markdown",
   "id": "404fb508",
   "metadata": {},
   "source": [
    "##### some funcns used some times "
   ]
  },
  {
   "cell_type": "code",
   "execution_count": 39,
   "id": "d902bb98",
   "metadata": {},
   "outputs": [
    {
     "data": {
      "text/plain": [
       "array([184., 379.,  50.])"
      ]
     },
     "execution_count": 39,
     "metadata": {},
     "output_type": "execute_result"
    }
   ],
   "source": [
    "np.ceil([183.49,378.378938,49.47])"
   ]
  },
  {
   "cell_type": "code",
   "execution_count": 40,
   "id": "22086fc4",
   "metadata": {},
   "outputs": [
    {
     "data": {
      "text/plain": [
       "array([ 34., 454., 344.])"
      ]
     },
     "execution_count": 40,
     "metadata": {},
     "output_type": "execute_result"
    }
   ],
   "source": [
    "np.floor([34.5609,454.0966,344.34334])"
   ]
  },
  {
   "cell_type": "markdown",
   "id": "747ab5c3",
   "metadata": {},
   "source": [
    "### concantenation of arrays"
   ]
  },
  {
   "cell_type": "code",
   "execution_count": 41,
   "id": "7422ffde",
   "metadata": {},
   "outputs": [
    {
     "data": {
      "text/plain": [
       "array([[17, 23, 34, 27, 33],\n",
       "       [11, 18, 15, 18, 40]])"
      ]
     },
     "execution_count": 41,
     "metadata": {},
     "output_type": "execute_result"
    }
   ],
   "source": [
    "arr1=np.random.randint(10,42,10).reshape(2,5)\n",
    "arr1"
   ]
  },
  {
   "cell_type": "code",
   "execution_count": 42,
   "id": "9a1dca2f",
   "metadata": {},
   "outputs": [
    {
     "data": {
      "text/plain": [
       "array([[1., 1., 1., 1., 1.],\n",
       "       [1., 1., 1., 1., 1.]])"
      ]
     },
     "execution_count": 42,
     "metadata": {},
     "output_type": "execute_result"
    }
   ],
   "source": [
    "arr2=np.ones(shape=(2,5))\n",
    "arr2"
   ]
  },
  {
   "cell_type": "code",
   "execution_count": 43,
   "id": "1325b3f8",
   "metadata": {},
   "outputs": [
    {
     "data": {
      "text/plain": [
       "array([[17., 23., 34., 27., 33.,  1.,  1.,  1.,  1.,  1.],\n",
       "       [11., 18., 15., 18., 40.,  1.,  1.,  1.,  1.,  1.]])"
      ]
     },
     "execution_count": 43,
     "metadata": {},
     "output_type": "execute_result"
    }
   ],
   "source": [
    "np.concatenate((arr1,arr2),axis=1)"
   ]
  },
  {
   "cell_type": "code",
   "execution_count": 44,
   "id": "53da18da",
   "metadata": {},
   "outputs": [
    {
     "data": {
      "text/plain": [
       "array([[17., 23., 34., 27., 33.],\n",
       "       [11., 18., 15., 18., 40.],\n",
       "       [ 1.,  1.,  1.,  1.,  1.],\n",
       "       [ 1.,  1.,  1.,  1.,  1.]])"
      ]
     },
     "execution_count": 44,
     "metadata": {},
     "output_type": "execute_result"
    }
   ],
   "source": [
    "np.concatenate((arr1,arr2))"
   ]
  },
  {
   "cell_type": "markdown",
   "id": "9758fe47",
   "metadata": {},
   "source": [
    "### special function where : it is used to filter out values \n",
    "### syntax :   np.where(condition , when true , when false ) "
   ]
  },
  {
   "cell_type": "code",
   "execution_count": 45,
   "id": "08bbaea0",
   "metadata": {},
   "outputs": [
    {
     "data": {
      "text/plain": [
       "array([ 12,  43, 342,  23])"
      ]
     },
     "execution_count": 45,
     "metadata": {},
     "output_type": "execute_result"
    }
   ],
   "source": [
    "arr_1d"
   ]
  },
  {
   "cell_type": "markdown",
   "id": "6ae62f6e",
   "metadata": {},
   "source": [
    "###### we will fill out  the values less than 40 to NaN"
   ]
  },
  {
   "cell_type": "code",
   "execution_count": 46,
   "id": "e79992bd",
   "metadata": {},
   "outputs": [
    {
     "data": {
      "text/plain": [
       "array([ nan,  43., 342.,  nan])"
      ]
     },
     "execution_count": 46,
     "metadata": {},
     "output_type": "execute_result"
    }
   ],
   "source": [
    "np.where(arr_1d>40,arr_1d,np.NaN)"
   ]
  },
  {
   "cell_type": "markdown",
   "id": "e78c8b90",
   "metadata": {},
   "source": [
    "#### sort the arrays "
   ]
  },
  {
   "cell_type": "code",
   "execution_count": 47,
   "id": "fbf4e991",
   "metadata": {},
   "outputs": [
    {
     "data": {
      "text/plain": [
       "array([ 12,  23,  43, 342])"
      ]
     },
     "execution_count": 47,
     "metadata": {},
     "output_type": "execute_result"
    }
   ],
   "source": [
    "np.sort(arr_1d)"
   ]
  },
  {
   "cell_type": "markdown",
   "id": "9ac563b9",
   "metadata": {},
   "source": [
    "### get frequency count to plot histogram : np.histogram() method gives an array of frequency count and an array of equal sized bin intervals"
   ]
  },
  {
   "cell_type": "code",
   "execution_count": 48,
   "id": "32942b2a",
   "metadata": {},
   "outputs": [
    {
     "data": {
      "text/plain": [
       "array([39, 68, 29, 59, 47, 15, 17, 24, 83, 65, 27, 20, 92, 65, 75, 26, 87,\n",
       "       54, 37, 56, 20, 93, 16, 83, 99, 97, 25, 13, 73, 84, 40, 19, 41, 40,\n",
       "       77, 55, 56, 73, 50, 77, 43, 74, 84, 90, 95, 24, 91, 34, 46, 11, 96,\n",
       "       71, 88, 14, 98, 73, 16, 19, 75, 84, 90, 47, 57, 71, 30, 33, 44, 99,\n",
       "       30, 71, 58, 47, 35, 46, 12, 69, 13, 70, 24, 22, 25, 43, 83, 47, 83,\n",
       "       27, 99, 77, 91, 67, 49, 28, 13, 88, 81, 59, 85, 94, 63, 62])"
      ]
     },
     "execution_count": 48,
     "metadata": {},
     "output_type": "execute_result"
    }
   ],
   "source": [
    "arr=np.random.randint(10,100,100)\n",
    "arr"
   ]
  },
  {
   "cell_type": "markdown",
   "id": "2aee279a",
   "metadata": {},
   "source": [
    "###### bins parameter can be manually supplied to the np.histogram() functions as an arguement "
   ]
  },
  {
   "cell_type": "code",
   "execution_count": 49,
   "id": "ee6e6f7c",
   "metadata": {},
   "outputs": [],
   "source": [
    "freq,b=np.histogram(arr)"
   ]
  },
  {
   "cell_type": "code",
   "execution_count": 50,
   "id": "c62fe982",
   "metadata": {},
   "outputs": [
    {
     "data": {
      "text/plain": [
       "<Axes: ylabel='Count'>"
      ]
     },
     "execution_count": 50,
     "metadata": {},
     "output_type": "execute_result"
    },
    {
     "data": {
      "image/png": "[encoded data removed]",
      "text/plain": [
       "<Figure size 640x480 with 1 Axes>"
      ]
     },
     "metadata": {},
     "output_type": "display_data"
    }
   ],
   "source": [
    "sns.histplot(data=arr,bins=b,color='m')"
   ]
  },
  {
   "cell_type": "code",
   "execution_count": 51,
   "id": "df52fb26",
   "metadata": {},
   "outputs": [
    {
     "data": {
      "text/plain": [
       "array([12, 12,  7,  9,  7,  9,  9, 10, 13, 12], dtype=int64)"
      ]
     },
     "execution_count": 51,
     "metadata": {},
     "output_type": "execute_result"
    }
   ],
   "source": [
    "freq"
   ]
  },
  {
   "cell_type": "code",
   "execution_count": 52,
   "id": "b1da1f40",
   "metadata": {},
   "outputs": [
    {
     "data": {
      "text/plain": [
       "array([11. , 19.8, 28.6, 37.4, 46.2, 55. , 63.8, 72.6, 81.4, 90.2, 99. ])"
      ]
     },
     "execution_count": 52,
     "metadata": {},
     "output_type": "execute_result"
    }
   ],
   "source": [
    "b"
   ]
  },
  {
   "cell_type": "markdown",
   "id": "6672e913",
   "metadata": {},
   "source": [
    "###### to get percentile and quartiles of any numerical data  : to get five number summary we need pandas method df.describe()"
   ]
  },
  {
   "cell_type": "code",
   "execution_count": 53,
   "id": "3bdfeae2",
   "metadata": {},
   "outputs": [
    {
     "data": {
      "text/plain": [
       "91.0"
      ]
     },
     "execution_count": 53,
     "metadata": {},
     "output_type": "execute_result"
    }
   ],
   "source": [
    "np.percentile(arr,89)"
   ]
  },
  {
   "cell_type": "markdown",
   "id": "92cd63e1",
   "metadata": {},
   "source": [
    "##### to get cummulative sum of data points , generally used to calculate cummulative frequency , we use np.cumsum "
   ]
  },
  {
   "cell_type": "code",
   "execution_count": 54,
   "id": "ce57ad70",
   "metadata": {},
   "outputs": [
    {
     "data": {
      "text/plain": [
       "array([  39,  107,  136,  195,  242,  257,  274,  298,  381,  446,  473,\n",
       "        493,  585,  650,  725,  751,  838,  892,  929,  985, 1005, 1098,\n",
       "       1114, 1197, 1296, 1393, 1418, 1431, 1504, 1588, 1628, 1647, 1688,\n",
       "       1728, 1805, 1860, 1916, 1989, 2039, 2116, 2159, 2233, 2317, 2407,\n",
       "       2502, 2526, 2617, 2651, 2697, 2708, 2804, 2875, 2963, 2977, 3075,\n",
       "       3148, 3164, 3183, 3258, 3342, 3432, 3479, 3536, 3607, 3637, 3670,\n",
       "       3714, 3813, 3843, 3914, 3972, 4019, 4054, 4100, 4112, 4181, 4194,\n",
       "       4264, 4288, 4310, 4335, 4378, 4461, 4508, 4591, 4618, 4717, 4794,\n",
       "       4885, 4952, 5001, 5029, 5042, 5130, 5211, 5270, 5355, 5449, 5512,\n",
       "       5574])"
      ]
     },
     "execution_count": 54,
     "metadata": {},
     "output_type": "execute_result"
    }
   ],
   "source": [
    "np.cumsum(arr)"
   ]
  },
  {
   "cell_type": "code",
   "execution_count": 55,
   "id": "56568f22",
   "metadata": {},
   "outputs": [
    {
     "data": {
      "text/plain": [
       "array([ 12,  24,  31,  40,  47,  56,  65,  75,  88, 100], dtype=int64)"
      ]
     },
     "execution_count": 55,
     "metadata": {},
     "output_type": "execute_result"
    }
   ],
   "source": [
    "np.cumsum(freq)"
   ]
  },
  {
   "cell_type": "markdown",
   "id": "a1c380f4",
   "metadata": {},
   "source": [
    "###### to calculate statistical terms we use many inbuilt funcns as below "
   ]
  },
  {
   "cell_type": "code",
   "execution_count": 56,
   "id": "634cdadc",
   "metadata": {},
   "outputs": [
    {
     "data": {
      "text/plain": [
       "27.215664606986913"
      ]
     },
     "execution_count": 56,
     "metadata": {},
     "output_type": "execute_result"
    }
   ],
   "source": [
    "np.std(arr)"
   ]
  },
  {
   "cell_type": "code",
   "execution_count": 57,
   "id": "e596239c",
   "metadata": {},
   "outputs": [
    {
     "data": {
      "text/plain": [
       "740.6924"
      ]
     },
     "execution_count": 57,
     "metadata": {},
     "output_type": "execute_result"
    }
   ],
   "source": [
    "np.var(arr)"
   ]
  },
  {
   "cell_type": "code",
   "execution_count": 58,
   "id": "f0dcaacb",
   "metadata": {},
   "outputs": [
    {
     "data": {
      "text/plain": [
       "array(748.17414141)"
      ]
     },
     "execution_count": 58,
     "metadata": {},
     "output_type": "execute_result"
    }
   ],
   "source": [
    "np.cov(arr)"
   ]
  },
  {
   "cell_type": "code",
   "execution_count": 59,
   "id": "ce473d82",
   "metadata": {},
   "outputs": [
    {
     "data": {
      "text/plain": [
       "55.74"
      ]
     },
     "execution_count": 59,
     "metadata": {},
     "output_type": "execute_result"
    }
   ],
   "source": [
    "np.mean(arr)"
   ]
  },
  {
   "cell_type": "code",
   "execution_count": 60,
   "id": "175a107d",
   "metadata": {},
   "outputs": [
    {
     "data": {
      "text/plain": [
       "56.5"
      ]
     },
     "execution_count": 60,
     "metadata": {},
     "output_type": "execute_result"
    }
   ],
   "source": [
    "np.median(arr)"
   ]
  },
  {
   "cell_type": "code",
   "execution_count": 61,
   "id": "f948e04d",
   "metadata": {},
   "outputs": [
    {
     "data": {
      "text/plain": [
       "5574"
      ]
     },
     "execution_count": 61,
     "metadata": {},
     "output_type": "execute_result"
    }
   ],
   "source": [
    "np.sum(arr)"
   ]
  },
  {
   "cell_type": "code",
   "execution_count": 62,
   "id": "60a14f74",
   "metadata": {},
   "outputs": [
    {
     "data": {
      "text/plain": [
       "50.33885179461288"
      ]
     },
     "execution_count": 62,
     "metadata": {},
     "output_type": "execute_result"
    }
   ],
   "source": [
    "np.sqrt(2534)"
   ]
  },
  {
   "cell_type": "code",
   "execution_count": 63,
   "id": "9b88c8f9",
   "metadata": {},
   "outputs": [
    {
     "data": {
      "text/plain": [
       "0.0"
      ]
     },
     "execution_count": 63,
     "metadata": {},
     "output_type": "execute_result"
    }
   ],
   "source": [
    "np.log(1)"
   ]
  },
  {
   "cell_type": "code",
   "execution_count": 64,
   "id": "845b5d9d",
   "metadata": {},
   "outputs": [
    {
     "data": {
      "text/plain": [
       "0.0"
      ]
     },
     "execution_count": 64,
     "metadata": {},
     "output_type": "execute_result"
    }
   ],
   "source": [
    "np.log10(1)"
   ]
  },
  {
   "cell_type": "code",
   "execution_count": 65,
   "id": "c3beb50e",
   "metadata": {},
   "outputs": [
    {
     "data": {
      "text/plain": [
       "0.0"
      ]
     },
     "execution_count": 65,
     "metadata": {},
     "output_type": "execute_result"
    }
   ],
   "source": [
    "np.log2(1)"
   ]
  },
  {
   "cell_type": "markdown",
   "id": "aecd91ad",
   "metadata": {},
   "source": [
    "###### gives e to the power any values "
   ]
  },
  {
   "cell_type": "code",
   "execution_count": 66,
   "id": "9291b6d0",
   "metadata": {},
   "outputs": [
    {
     "data": {
      "text/plain": [
       "array([   54.59815003, 22026.46579481])"
      ]
     },
     "execution_count": 66,
     "metadata": {},
     "output_type": "execute_result"
    }
   ],
   "source": [
    "np.exp((4,10))"
   ]
  },
  {
   "cell_type": "markdown",
   "id": "5cbb80b8",
   "metadata": {},
   "source": [
    "###### compute np.power(a,b)   means a ^ b "
   ]
  },
  {
   "cell_type": "code",
   "execution_count": 67,
   "id": "38777332",
   "metadata": {},
   "outputs": [
    {
     "data": {
      "text/plain": [
       "1048576"
      ]
     },
     "execution_count": 67,
     "metadata": {},
     "output_type": "execute_result"
    }
   ],
   "source": [
    "np.power(4,10)"
   ]
  },
  {
   "cell_type": "code",
   "execution_count": 68,
   "id": "ddc96e9b",
   "metadata": {},
   "outputs": [
    {
     "data": {
      "text/plain": [
       "55.74"
      ]
     },
     "execution_count": 68,
     "metadata": {},
     "output_type": "execute_result"
    }
   ],
   "source": [
    "np.average(arr)"
   ]
  },
  {
   "cell_type": "code",
   "execution_count": 69,
   "id": "ede9d34f",
   "metadata": {},
   "outputs": [
    {
     "data": {
      "text/plain": [
       "matrix([[  1,   2,   4],\n",
       "        [ 42, 324, 234],\n",
       "        [ 34,  42,  23]])"
      ]
     },
     "execution_count": 69,
     "metadata": {},
     "output_type": "execute_result"
    }
   ],
   "source": [
    "arr_2d"
   ]
  },
  {
   "cell_type": "markdown",
   "id": "cc0615ec",
   "metadata": {},
   "source": [
    "##### append method allows to edit numpy arrays : axis=0 means rows appended "
   ]
  },
  {
   "cell_type": "code",
   "execution_count": 70,
   "id": "fd7cfda0",
   "metadata": {},
   "outputs": [
    {
     "data": {
      "text/plain": [
       "matrix([[  1,   2,   4],\n",
       "        [ 42, 324, 234],\n",
       "        [ 34,  42,  23],\n",
       "        [ 13, 234, 345]])"
      ]
     },
     "execution_count": 70,
     "metadata": {},
     "output_type": "execute_result"
    }
   ],
   "source": [
    "np.append(arr_2d,[[13,234,345]],axis=0)"
   ]
  },
  {
   "cell_type": "code",
   "execution_count": null,
   "id": "d75e937f",
   "metadata": {},
   "outputs": [],
   "source": []
  }
 ],
 "metadata": {
  "kernelspec": {
   "display_name": "Python 3 (ipykernel)",
   "language": "python",
   "name": "python3"
  },
  "language_info": {
   "codemirror_mode": {
    "name": "ipython",
    "version": 3
   },
   "file_extension": ".py",
   "mimetype": "text/x-python",
   "name": "python",
   "nbconvert_exporter": "python",
   "pygments_lexer": "ipython3",
   "version": "3.11.2"
  }
 },
 "nbformat": 4,
 "nbformat_minor": 5
}
