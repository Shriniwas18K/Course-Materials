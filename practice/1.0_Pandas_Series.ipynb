{
 "cells": [
  {
   "cell_type": "code",
   "execution_count": 1,
   "id": "b07483f8",
   "metadata": {},
   "outputs": [],
   "source": [
    "import numpy as np\n",
    "import pandas as pd\n",
    "import matplotlib.pyplot as plt\n",
    "import seaborn as sns"
   ]
  },
  {
   "cell_type": "markdown",
   "id": "2266646e",
   "metadata": {},
   "source": [
    "##### series and dataframes are pandas objects : they also use broadcasting concept for many functions"
   ]
  },
  {
   "cell_type": "markdown",
   "id": "1cc8d05c",
   "metadata": {},
   "source": [
    "#### series : it is like column in a table . it is 1-d array that can store data of any type "
   ]
  },
  {
   "cell_type": "markdown",
   "id": "0445165e",
   "metadata": {},
   "source": [
    "###### creating series using list,tuple,arrays "
   ]
  },
  {
   "cell_type": "code",
   "execution_count": 2,
   "id": "f0182c3d",
   "metadata": {},
   "outputs": [
    {
     "data": {
      "text/plain": [
       "0    india\n",
       "1      aus\n",
       "2       EU\n",
       "3      jap\n",
       "dtype: object"
      ]
     },
     "execution_count": 2,
     "metadata": {},
     "output_type": "execute_result"
    }
   ],
   "source": [
    "country=['india','aus','EU','jap']\n",
    "pd.Series(country)"
   ]
  },
  {
   "cell_type": "code",
   "execution_count": 3,
   "id": "33dc0865",
   "metadata": {},
   "outputs": [
    {
     "data": {
      "text/plain": [
       "0    130\n",
       "1    324\n",
       "2    324\n",
       "dtype: int64"
      ]
     },
     "execution_count": 3,
     "metadata": {},
     "output_type": "execute_result"
    }
   ],
   "source": [
    "runs=[130,324,324]\n",
    "pd.Series(runs)"
   ]
  },
  {
   "cell_type": "markdown",
   "id": "195de0e9",
   "metadata": {},
   "source": [
    "###### custom index and Name of the series: provide index =list of values, and name as string"
   ]
  },
  {
   "cell_type": "code",
   "execution_count": 4,
   "id": "c99c671b",
   "metadata": {},
   "outputs": [
    {
     "data": {
      "text/plain": [
       "virat      232\n",
       "dhoni       34\n",
       "rohit       23\n",
       "gambhir      5\n",
       "a          234\n",
       "c            5\n",
       "b           23\n",
       "Name: INDIA Cricket scores, dtype: int64"
      ]
     },
     "execution_count": 4,
     "metadata": {},
     "output_type": "execute_result"
    }
   ],
   "source": [
    "runs=[232,34,23,5,234,5,23]\n",
    "players=['virat','dhoni','rohit','gambhir','a','c','b']\n",
    "sc=pd.Series(runs,index=players,name='INDIA Cricket scores')\n",
    "sc"
   ]
  },
  {
   "cell_type": "markdown",
   "id": "0ab2f875",
   "metadata": {},
   "source": [
    "##### this way we can convert mapping or dictionary to series "
   ]
  },
  {
   "cell_type": "code",
   "execution_count": 5,
   "id": "480b5656",
   "metadata": {},
   "outputs": [
    {
     "data": {
      "text/plain": [
       "hi        erger\n",
       "3        345fgd\n",
       "435    ertert34\n",
       "dtype: object"
      ]
     },
     "execution_count": 5,
     "metadata": {},
     "output_type": "execute_result"
    }
   ],
   "source": [
    "d={'hi':'erger',3:'345fgd','435':'ertert34'}\n",
    "pd.Series(d)"
   ]
  },
  {
   "cell_type": "markdown",
   "id": "f6c6e6fc",
   "metadata": {},
   "source": [
    "##### functions of series "
   ]
  },
  {
   "cell_type": "code",
   "execution_count": 6,
   "id": "adb5ac4c",
   "metadata": {},
   "outputs": [
    {
     "data": {
      "text/plain": [
       "7"
      ]
     },
     "execution_count": 6,
     "metadata": {},
     "output_type": "execute_result"
    }
   ],
   "source": [
    "sc.size"
   ]
  },
  {
   "cell_type": "code",
   "execution_count": 7,
   "id": "a2ef46e4",
   "metadata": {},
   "outputs": [
    {
     "data": {
      "text/plain": [
       "'INDIA Cricket scores'"
      ]
     },
     "execution_count": 7,
     "metadata": {},
     "output_type": "execute_result"
    }
   ],
   "source": [
    "sc.name"
   ]
  },
  {
   "cell_type": "markdown",
   "id": "cc787aa7",
   "metadata": {},
   "source": [
    "###### to get the unique values of the series "
   ]
  },
  {
   "cell_type": "code",
   "execution_count": 8,
   "id": "f70b8edc",
   "metadata": {},
   "outputs": [
    {
     "data": {
      "text/plain": [
       "array([232,  34,  23,   5, 234], dtype=int64)"
      ]
     },
     "execution_count": 8,
     "metadata": {},
     "output_type": "execute_result"
    }
   ],
   "source": [
    "sc.unique()"
   ]
  },
  {
   "cell_type": "markdown",
   "id": "910f8c36",
   "metadata": {},
   "source": [
    "##### to get indices of a series :  its type varies from RangeIndex to Index , etc , depending upon type of values as indices"
   ]
  },
  {
   "cell_type": "code",
   "execution_count": 9,
   "id": "23a5b6d2",
   "metadata": {},
   "outputs": [
    {
     "data": {
      "text/plain": [
       "Index(['virat', 'dhoni', 'rohit', 'gambhir', 'a', 'c', 'b'], dtype='object')"
      ]
     },
     "execution_count": 9,
     "metadata": {},
     "output_type": "execute_result"
    }
   ],
   "source": [
    "sc.index"
   ]
  },
  {
   "cell_type": "markdown",
   "id": "433ad080",
   "metadata": {},
   "source": [
    "###### to get values inside a series as a numpy array "
   ]
  },
  {
   "cell_type": "code",
   "execution_count": 10,
   "id": "ab2e1938",
   "metadata": {},
   "outputs": [
    {
     "data": {
      "text/plain": [
       "array([232,  34,  23,   5, 234,   5,  23], dtype=int64)"
      ]
     },
     "execution_count": 10,
     "metadata": {},
     "output_type": "execute_result"
    }
   ],
   "source": [
    "sc.values"
   ]
  },
  {
   "cell_type": "markdown",
   "id": "24f2b3c4",
   "metadata": {},
   "source": [
    "##### to get frequency count of each value , we can use value_counts() method or Counter class"
   ]
  },
  {
   "cell_type": "code",
   "execution_count": 11,
   "id": "6722e6d7",
   "metadata": {},
   "outputs": [
    {
     "data": {
      "text/plain": [
       "23     2\n",
       "5      2\n",
       "232    1\n",
       "34     1\n",
       "234    1\n",
       "Name: INDIA Cricket scores, dtype: int64"
      ]
     },
     "execution_count": 11,
     "metadata": {},
     "output_type": "execute_result"
    }
   ],
   "source": [
    "sc.value_counts()"
   ]
  },
  {
   "cell_type": "code",
   "execution_count": 12,
   "id": "a7918239",
   "metadata": {},
   "outputs": [
    {
     "data": {
      "text/plain": [
       "Counter({232: 1, 34: 1, 23: 2, 5: 2, 234: 1})"
      ]
     },
     "execution_count": 12,
     "metadata": {},
     "output_type": "execute_result"
    }
   ],
   "source": [
    "from collections import Counter\n",
    "c=Counter(sc)\n",
    "c"
   ]
  },
  {
   "cell_type": "markdown",
   "id": "a1cf92d9",
   "metadata": {},
   "source": [
    "##### to get first five and last five values we use head and tail methods "
   ]
  },
  {
   "cell_type": "code",
   "execution_count": 13,
   "id": "91a8d94a",
   "metadata": {},
   "outputs": [
    {
     "data": {
      "text/plain": [
       "virat      232\n",
       "dhoni       34\n",
       "rohit       23\n",
       "gambhir      5\n",
       "a          234\n",
       "Name: INDIA Cricket scores, dtype: int64"
      ]
     },
     "execution_count": 13,
     "metadata": {},
     "output_type": "execute_result"
    }
   ],
   "source": [
    "sc.head()"
   ]
  },
  {
   "cell_type": "code",
   "execution_count": 14,
   "id": "d0fbfd23",
   "metadata": {},
   "outputs": [
    {
     "data": {
      "text/plain": [
       "rohit       23\n",
       "gambhir      5\n",
       "a          234\n",
       "c            5\n",
       "b           23\n",
       "Name: INDIA Cricket scores, dtype: int64"
      ]
     },
     "execution_count": 14,
     "metadata": {},
     "output_type": "execute_result"
    }
   ],
   "source": [
    "sc.tail()"
   ]
  },
  {
   "cell_type": "markdown",
   "id": "1bd0a589",
   "metadata": {},
   "source": [
    "##### to get randomly some n rows from the series we use sample(n)"
   ]
  },
  {
   "cell_type": "code",
   "execution_count": 15,
   "id": "73da4ed9",
   "metadata": {},
   "outputs": [
    {
     "data": {
      "text/plain": [
       "virat    232\n",
       "a        234\n",
       "c          5\n",
       "Name: INDIA Cricket scores, dtype: int64"
      ]
     },
     "execution_count": 15,
     "metadata": {},
     "output_type": "execute_result"
    }
   ],
   "source": [
    "sc.sample(3)"
   ]
  },
  {
   "cell_type": "markdown",
   "id": "90cadc07",
   "metadata": {},
   "source": [
    "##### to sort as per values and make these changes affect inside the series we use parameter inplace=True , we can change order of sorting by  ascending =False"
   ]
  },
  {
   "cell_type": "code",
   "execution_count": 16,
   "id": "79ff129e",
   "metadata": {},
   "outputs": [
    {
     "data": {
      "text/plain": [
       "a          234\n",
       "virat      232\n",
       "dhoni       34\n",
       "rohit       23\n",
       "b           23\n",
       "gambhir      5\n",
       "c            5\n",
       "Name: INDIA Cricket scores, dtype: int64"
      ]
     },
     "execution_count": 16,
     "metadata": {},
     "output_type": "execute_result"
    }
   ],
   "source": [
    "sc.sort_values(inplace=True,ascending=False)\n",
    "sc"
   ]
  },
  {
   "cell_type": "markdown",
   "id": "88cc57d6",
   "metadata": {},
   "source": [
    "###### to sort as per indices and make these changes affect inside series we use inplace=True "
   ]
  },
  {
   "cell_type": "code",
   "execution_count": 17,
   "id": "a6128266",
   "metadata": {},
   "outputs": [
    {
     "data": {
      "text/plain": [
       "a          234\n",
       "b           23\n",
       "c            5\n",
       "dhoni       34\n",
       "gambhir      5\n",
       "rohit       23\n",
       "virat      232\n",
       "Name: INDIA Cricket scores, dtype: int64"
      ]
     },
     "execution_count": 17,
     "metadata": {},
     "output_type": "execute_result"
    }
   ],
   "source": [
    "sc.sort_index(inplace=True)\n",
    "sc"
   ]
  },
  {
   "cell_type": "markdown",
   "id": "d396eca5",
   "metadata": {},
   "source": [
    "##### mathematical methods of series object "
   ]
  },
  {
   "cell_type": "code",
   "execution_count": 18,
   "id": "a0e2d448",
   "metadata": {},
   "outputs": [
    {
     "data": {
      "text/plain": [
       "105.4211508551251"
      ]
     },
     "execution_count": 18,
     "metadata": {},
     "output_type": "execute_result"
    }
   ],
   "source": [
    "sc.std()"
   ]
  },
  {
   "cell_type": "code",
   "execution_count": 19,
   "id": "a4b725db",
   "metadata": {},
   "outputs": [
    {
     "data": {
      "text/plain": [
       "556"
      ]
     },
     "execution_count": 19,
     "metadata": {},
     "output_type": "execute_result"
    }
   ],
   "source": [
    "sc.sum()"
   ]
  },
  {
   "cell_type": "code",
   "execution_count": 20,
   "id": "0cb6fb49",
   "metadata": {},
   "outputs": [
    {
     "data": {
      "text/plain": [
       "11113.619047619046"
      ]
     },
     "execution_count": 20,
     "metadata": {},
     "output_type": "execute_result"
    }
   ],
   "source": [
    "sc.var()"
   ]
  },
  {
   "cell_type": "code",
   "execution_count": 21,
   "id": "4a1e56e4",
   "metadata": {},
   "outputs": [
    {
     "data": {
      "text/plain": [
       "79.42857142857143"
      ]
     },
     "execution_count": 21,
     "metadata": {},
     "output_type": "execute_result"
    }
   ],
   "source": [
    "sc.mean()"
   ]
  },
  {
   "cell_type": "code",
   "execution_count": 22,
   "id": "7164783e",
   "metadata": {},
   "outputs": [
    {
     "data": {
      "text/plain": [
       "23.0"
      ]
     },
     "execution_count": 22,
     "metadata": {},
     "output_type": "execute_result"
    }
   ],
   "source": [
    "sc.median()"
   ]
  },
  {
   "cell_type": "code",
   "execution_count": 23,
   "id": "a3d6db78",
   "metadata": {},
   "outputs": [
    {
     "data": {
      "text/plain": [
       "5"
      ]
     },
     "execution_count": 23,
     "metadata": {},
     "output_type": "execute_result"
    }
   ],
   "source": [
    "sc.min()"
   ]
  },
  {
   "cell_type": "code",
   "execution_count": 24,
   "id": "b4d81903",
   "metadata": {},
   "outputs": [
    {
     "data": {
      "text/plain": [
       "234"
      ]
     },
     "execution_count": 24,
     "metadata": {},
     "output_type": "execute_result"
    }
   ],
   "source": [
    "sc.max()"
   ]
  },
  {
   "cell_type": "code",
   "execution_count": 25,
   "id": "b30377bb",
   "metadata": {},
   "outputs": [
    {
     "data": {
      "text/plain": [
       "0     5\n",
       "1    23\n",
       "Name: INDIA Cricket scores, dtype: int64"
      ]
     },
     "execution_count": 25,
     "metadata": {},
     "output_type": "execute_result"
    }
   ],
   "source": [
    "sc.mode()"
   ]
  },
  {
   "cell_type": "code",
   "execution_count": 26,
   "id": "49e383c3",
   "metadata": {},
   "outputs": [
    {
     "data": {
      "text/plain": [
       "24410599200"
      ]
     },
     "execution_count": 26,
     "metadata": {},
     "output_type": "execute_result"
    }
   ],
   "source": [
    "sc.product()"
   ]
  },
  {
   "cell_type": "code",
   "execution_count": 27,
   "id": "3fd13565",
   "metadata": {},
   "outputs": [
    {
     "data": {
      "text/plain": [
       "24410599200"
      ]
     },
     "execution_count": 27,
     "metadata": {},
     "output_type": "execute_result"
    }
   ],
   "source": [
    "sc.prod()"
   ]
  },
  {
   "cell_type": "code",
   "execution_count": 28,
   "id": "e858cf7f",
   "metadata": {},
   "outputs": [
    {
     "data": {
      "text/plain": [
       "a          46.8\n",
       "b           4.6\n",
       "c           1.0\n",
       "dhoni       6.8\n",
       "gambhir     1.0\n",
       "rohit       4.6\n",
       "virat      46.4\n",
       "Name: INDIA Cricket scores, dtype: float64"
      ]
     },
     "execution_count": 28,
     "metadata": {},
     "output_type": "execute_result"
    }
   ],
   "source": [
    "sc.div(5)"
   ]
  },
  {
   "cell_type": "code",
   "execution_count": 29,
   "id": "5c503f1e",
   "metadata": {},
   "outputs": [
    {
     "data": {
      "text/plain": [
       "a          4\n",
       "b          3\n",
       "c          0\n",
       "dhoni      4\n",
       "gambhir    0\n",
       "rohit      3\n",
       "virat      2\n",
       "Name: INDIA Cricket scores, dtype: int64"
      ]
     },
     "execution_count": 29,
     "metadata": {},
     "output_type": "execute_result"
    }
   ],
   "source": [
    "sc.mod(5)"
   ]
  },
  {
   "cell_type": "markdown",
   "id": "61362af6",
   "metadata": {},
   "source": [
    "###### to get the number of values or observations in the series "
   ]
  },
  {
   "cell_type": "code",
   "execution_count": 30,
   "id": "dde696e0",
   "metadata": {},
   "outputs": [
    {
     "data": {
      "text/plain": [
       "7"
      ]
     },
     "execution_count": 30,
     "metadata": {},
     "output_type": "execute_result"
    }
   ],
   "source": [
    "sc.count()"
   ]
  },
  {
   "cell_type": "markdown",
   "id": "26d0748a",
   "metadata": {},
   "source": [
    "##### to get five numberng summary : min , q1 , q2 , q3 , max of the series"
   ]
  },
  {
   "cell_type": "code",
   "execution_count": 31,
   "id": "2989d802",
   "metadata": {},
   "outputs": [
    {
     "data": {
      "text/plain": [
       "count      7.000000\n",
       "mean      79.428571\n",
       "std      105.421151\n",
       "min        5.000000\n",
       "25%       14.000000\n",
       "50%       23.000000\n",
       "75%      133.000000\n",
       "max      234.000000\n",
       "Name: INDIA Cricket scores, dtype: float64"
      ]
     },
     "execution_count": 31,
     "metadata": {},
     "output_type": "execute_result"
    }
   ],
   "source": [
    "sc.describe()"
   ]
  },
  {
   "cell_type": "markdown",
   "id": "da0d5aaf",
   "metadata": {},
   "source": [
    "##### to access the series , we use iloc loc methods : thier indexing and slicing is same as lists\n",
    "##### iloc uses traditional zero-based indexing\n",
    "##### loc uses our given indexing"
   ]
  },
  {
   "cell_type": "code",
   "execution_count": 32,
   "id": "d4a5aede",
   "metadata": {},
   "outputs": [
    {
     "data": {
      "text/plain": [
       "a          234\n",
       "b           23\n",
       "c            5\n",
       "dhoni       34\n",
       "gambhir      5\n",
       "rohit       23\n",
       "virat      232\n",
       "Name: INDIA Cricket scores, dtype: int64"
      ]
     },
     "execution_count": 32,
     "metadata": {},
     "output_type": "execute_result"
    }
   ],
   "source": [
    "sc.iloc[::]"
   ]
  },
  {
   "cell_type": "code",
   "execution_count": 33,
   "id": "27778ba8",
   "metadata": {},
   "outputs": [
    {
     "data": {
      "text/plain": [
       "virat      232\n",
       "rohit       23\n",
       "gambhir      5\n",
       "dhoni       34\n",
       "c            5\n",
       "b           23\n",
       "a          234\n",
       "Name: INDIA Cricket scores, dtype: int64"
      ]
     },
     "execution_count": 33,
     "metadata": {},
     "output_type": "execute_result"
    }
   ],
   "source": [
    "sc.iloc[::-1]"
   ]
  },
  {
   "cell_type": "code",
   "execution_count": 34,
   "id": "7e8f80dd",
   "metadata": {},
   "outputs": [
    {
     "data": {
      "text/plain": [
       "b        23\n",
       "dhoni    34\n",
       "rohit    23\n",
       "Name: INDIA Cricket scores, dtype: int64"
      ]
     },
     "execution_count": 34,
     "metadata": {},
     "output_type": "execute_result"
    }
   ],
   "source": [
    "sc[1:100:2]"
   ]
  },
  {
   "cell_type": "code",
   "execution_count": 35,
   "id": "d27738d5",
   "metadata": {},
   "outputs": [
    {
     "data": {
      "text/plain": [
       "a        234\n",
       "b         23\n",
       "c          5\n",
       "dhoni     34\n",
       "Name: INDIA Cricket scores, dtype: int64"
      ]
     },
     "execution_count": 35,
     "metadata": {},
     "output_type": "execute_result"
    }
   ],
   "source": [
    "sc.loc['a':'dhoni']"
   ]
  },
  {
   "cell_type": "markdown",
   "id": "337c1ac5",
   "metadata": {},
   "source": [
    "##### but be careful using loc as it doesnot work if order of starting and ending index is not ascending ,etc "
   ]
  },
  {
   "cell_type": "markdown",
   "id": "983bdd23",
   "metadata": {},
   "source": [
    "##### fancy indexing : directly accessing out values by providing list of indices "
   ]
  },
  {
   "cell_type": "code",
   "execution_count": 36,
   "id": "883d634a",
   "metadata": {},
   "outputs": [
    {
     "data": {
      "text/plain": [
       "a        234\n",
       "dhoni     34\n",
       "Name: INDIA Cricket scores, dtype: int64"
      ]
     },
     "execution_count": 36,
     "metadata": {},
     "output_type": "execute_result"
    }
   ],
   "source": [
    "sc[['a','dhoni']]"
   ]
  },
  {
   "cell_type": "markdown",
   "id": "8d02fb19",
   "metadata": {},
   "source": [
    "###### to access directly like arrays or list is also possible "
   ]
  },
  {
   "cell_type": "code",
   "execution_count": 37,
   "id": "2e8f8427",
   "metadata": {},
   "outputs": [],
   "source": [
    "sc['a']=995"
   ]
  },
  {
   "cell_type": "markdown",
   "id": "c3077be9",
   "metadata": {},
   "source": [
    "### we can use built in python functions on the series"
   ]
  },
  {
   "cell_type": "code",
   "execution_count": 38,
   "id": "91c3f710",
   "metadata": {},
   "outputs": [
    {
     "data": {
      "text/plain": [
       "7"
      ]
     },
     "execution_count": 38,
     "metadata": {},
     "output_type": "execute_result"
    }
   ],
   "source": [
    "len(sc)"
   ]
  },
  {
   "cell_type": "markdown",
   "id": "15bb98e2",
   "metadata": {},
   "source": [
    "##### type casting"
   ]
  },
  {
   "cell_type": "code",
   "execution_count": 39,
   "id": "eb89801d",
   "metadata": {},
   "outputs": [
    {
     "data": {
      "text/plain": [
       "[995, 23, 5, 34, 5, 23, 232]"
      ]
     },
     "execution_count": 39,
     "metadata": {},
     "output_type": "execute_result"
    }
   ],
   "source": [
    "list(sc)"
   ]
  },
  {
   "cell_type": "code",
   "execution_count": 40,
   "id": "11467d64",
   "metadata": {},
   "outputs": [
    {
     "data": {
      "text/plain": [
       "(995, 23, 5, 34, 5, 23, 232)"
      ]
     },
     "execution_count": 40,
     "metadata": {},
     "output_type": "execute_result"
    }
   ],
   "source": [
    "tuple(sc)"
   ]
  },
  {
   "cell_type": "code",
   "execution_count": 41,
   "id": "a2485ab5",
   "metadata": {},
   "outputs": [
    {
     "data": {
      "text/plain": [
       "{'a': 995,\n",
       " 'b': 23,\n",
       " 'c': 5,\n",
       " 'dhoni': 34,\n",
       " 'gambhir': 5,\n",
       " 'rohit': 23,\n",
       " 'virat': 232}"
      ]
     },
     "execution_count": 41,
     "metadata": {},
     "output_type": "execute_result"
    }
   ],
   "source": [
    "dict(sc)"
   ]
  },
  {
   "cell_type": "code",
   "execution_count": 42,
   "id": "f8d24e39",
   "metadata": {},
   "outputs": [
    {
     "data": {
      "text/plain": [
       "{5, 23, 34, 232, 995}"
      ]
     },
     "execution_count": 42,
     "metadata": {},
     "output_type": "execute_result"
    }
   ],
   "source": [
    "set(sc)"
   ]
  },
  {
   "cell_type": "markdown",
   "id": "99676417",
   "metadata": {},
   "source": [
    "##### we can see all functions available to the series object from its documentation using dir()"
   ]
  },
  {
   "cell_type": "code",
   "execution_count": 43,
   "id": "11cef959",
   "metadata": {},
   "outputs": [
    {
     "data": {
      "text/plain": [
       "['T',\n",
       " '_AXIS_LEN',\n",
       " '_AXIS_ORDERS',\n",
       " '_AXIS_TO_AXIS_NUMBER',\n",
       " '_HANDLED_TYPES',\n",
       " '__abs__',\n",
       " '__add__',\n",
       " '__and__',\n",
       " '__annotations__',\n",
       " '__array__',\n",
       " '__array_priority__',\n",
       " '__array_ufunc__',\n",
       " '__array_wrap__',\n",
       " '__bool__',\n",
       " '__class__',\n",
       " '__contains__',\n",
       " '__copy__',\n",
       " '__deepcopy__',\n",
       " '__delattr__',\n",
       " '__delitem__',\n",
       " '__dict__',\n",
       " '__dir__',\n",
       " '__divmod__',\n",
       " '__doc__',\n",
       " '__eq__',\n",
       " '__finalize__',\n",
       " '__float__',\n",
       " '__floordiv__',\n",
       " '__format__',\n",
       " '__ge__',\n",
       " '__getattr__',\n",
       " '__getattribute__',\n",
       " '__getitem__',\n",
       " '__getstate__',\n",
       " '__gt__',\n",
       " '__hash__',\n",
       " '__iadd__',\n",
       " '__iand__',\n",
       " '__ifloordiv__',\n",
       " '__imod__',\n",
       " '__imul__',\n",
       " '__init__',\n",
       " '__init_subclass__',\n",
       " '__int__',\n",
       " '__invert__',\n",
       " '__ior__',\n",
       " '__ipow__',\n",
       " '__isub__',\n",
       " '__iter__',\n",
       " '__itruediv__',\n",
       " '__ixor__',\n",
       " '__le__',\n",
       " '__len__',\n",
       " '__long__',\n",
       " '__lt__',\n",
       " '__matmul__',\n",
       " '__mod__',\n",
       " '__module__',\n",
       " '__mul__',\n",
       " '__ne__',\n",
       " '__neg__',\n",
       " '__new__',\n",
       " '__nonzero__',\n",
       " '__or__',\n",
       " '__pos__',\n",
       " '__pow__',\n",
       " '__radd__',\n",
       " '__rand__',\n",
       " '__rdivmod__',\n",
       " '__reduce__',\n",
       " '__reduce_ex__',\n",
       " '__repr__',\n",
       " '__rfloordiv__',\n",
       " '__rmatmul__',\n",
       " '__rmod__',\n",
       " '__rmul__',\n",
       " '__ror__',\n",
       " '__round__',\n",
       " '__rpow__',\n",
       " '__rsub__',\n",
       " '__rtruediv__',\n",
       " '__rxor__',\n",
       " '__setattr__',\n",
       " '__setitem__',\n",
       " '__setstate__',\n",
       " '__sizeof__',\n",
       " '__str__',\n",
       " '__sub__',\n",
       " '__subclasshook__',\n",
       " '__truediv__',\n",
       " '__weakref__',\n",
       " '__xor__',\n",
       " '_accessors',\n",
       " '_accum_func',\n",
       " '_add_numeric_operations',\n",
       " '_agg_by_level',\n",
       " '_agg_examples_doc',\n",
       " '_agg_see_also_doc',\n",
       " '_align_frame',\n",
       " '_align_series',\n",
       " '_append',\n",
       " '_arith_method',\n",
       " '_as_manager',\n",
       " '_attrs',\n",
       " '_binop',\n",
       " '_can_hold_na',\n",
       " '_check_inplace_and_allows_duplicate_labels',\n",
       " '_check_inplace_setting',\n",
       " '_check_is_chained_assignment_possible',\n",
       " '_check_label_or_level_ambiguity',\n",
       " '_check_setitem_copy',\n",
       " '_clear_item_cache',\n",
       " '_clip_with_one_bound',\n",
       " '_clip_with_scalar',\n",
       " '_cmp_method',\n",
       " '_consolidate',\n",
       " '_consolidate_inplace',\n",
       " '_construct_axes_dict',\n",
       " '_construct_axes_from_arguments',\n",
       " '_construct_result',\n",
       " '_constructor',\n",
       " '_constructor_expanddim',\n",
       " '_convert',\n",
       " '_convert_dtypes',\n",
       " '_data',\n",
       " '_dir_additions',\n",
       " '_dir_deletions',\n",
       " '_drop_axis',\n",
       " '_drop_labels_or_levels',\n",
       " '_duplicated',\n",
       " '_find_valid_index',\n",
       " '_flags',\n",
       " '_get_axis',\n",
       " '_get_axis_name',\n",
       " '_get_axis_number',\n",
       " '_get_axis_resolvers',\n",
       " '_get_block_manager_axis',\n",
       " '_get_bool_data',\n",
       " '_get_cacher',\n",
       " '_get_cleaned_column_resolvers',\n",
       " '_get_index_resolvers',\n",
       " '_get_label_or_level_values',\n",
       " '_get_numeric_data',\n",
       " '_get_value',\n",
       " '_get_values',\n",
       " '_get_values_tuple',\n",
       " '_get_with',\n",
       " '_gotitem',\n",
       " '_hidden_attrs',\n",
       " '_indexed_same',\n",
       " '_info_axis',\n",
       " '_info_axis_name',\n",
       " '_info_axis_number',\n",
       " '_init_dict',\n",
       " '_init_mgr',\n",
       " '_inplace_method',\n",
       " '_internal_names',\n",
       " '_internal_names_set',\n",
       " '_is_cached',\n",
       " '_is_copy',\n",
       " '_is_label_or_level_reference',\n",
       " '_is_label_reference',\n",
       " '_is_level_reference',\n",
       " '_is_mixed_type',\n",
       " '_is_view',\n",
       " '_item_cache',\n",
       " '_ixs',\n",
       " '_logical_func',\n",
       " '_logical_method',\n",
       " '_map_values',\n",
       " '_maybe_update_cacher',\n",
       " '_memory_usage',\n",
       " '_metadata',\n",
       " '_mgr',\n",
       " '_min_count_stat_function',\n",
       " '_name',\n",
       " '_needs_reindex_multi',\n",
       " '_protect_consolidate',\n",
       " '_reduce',\n",
       " '_reindex_axes',\n",
       " '_reindex_indexer',\n",
       " '_reindex_multi',\n",
       " '_reindex_with_indexers',\n",
       " '_rename',\n",
       " '_replace_single',\n",
       " '_repr_data_resource_',\n",
       " '_repr_latex_',\n",
       " '_reset_cache',\n",
       " '_reset_cacher',\n",
       " '_set_as_cached',\n",
       " '_set_axis',\n",
       " '_set_axis_name',\n",
       " '_set_axis_nocheck',\n",
       " '_set_is_copy',\n",
       " '_set_labels',\n",
       " '_set_name',\n",
       " '_set_value',\n",
       " '_set_values',\n",
       " '_set_with',\n",
       " '_set_with_engine',\n",
       " '_slice',\n",
       " '_stat_axis',\n",
       " '_stat_axis_name',\n",
       " '_stat_axis_number',\n",
       " '_stat_function',\n",
       " '_stat_function_ddof',\n",
       " '_take',\n",
       " '_take_with_is_copy',\n",
       " '_typ',\n",
       " '_update_inplace',\n",
       " '_validate_dtype',\n",
       " '_values',\n",
       " '_where',\n",
       " 'a',\n",
       " 'abs',\n",
       " 'add',\n",
       " 'add_prefix',\n",
       " 'add_suffix',\n",
       " 'agg',\n",
       " 'aggregate',\n",
       " 'align',\n",
       " 'all',\n",
       " 'any',\n",
       " 'append',\n",
       " 'apply',\n",
       " 'argmax',\n",
       " 'argmin',\n",
       " 'argsort',\n",
       " 'array',\n",
       " 'asfreq',\n",
       " 'asof',\n",
       " 'astype',\n",
       " 'at',\n",
       " 'at_time',\n",
       " 'attrs',\n",
       " 'autocorr',\n",
       " 'axes',\n",
       " 'b',\n",
       " 'backfill',\n",
       " 'between',\n",
       " 'between_time',\n",
       " 'bfill',\n",
       " 'bool',\n",
       " 'c',\n",
       " 'clip',\n",
       " 'combine',\n",
       " 'combine_first',\n",
       " 'compare',\n",
       " 'convert_dtypes',\n",
       " 'copy',\n",
       " 'corr',\n",
       " 'count',\n",
       " 'cov',\n",
       " 'cummax',\n",
       " 'cummin',\n",
       " 'cumprod',\n",
       " 'cumsum',\n",
       " 'describe',\n",
       " 'dhoni',\n",
       " 'diff',\n",
       " 'div',\n",
       " 'divide',\n",
       " 'divmod',\n",
       " 'dot',\n",
       " 'drop',\n",
       " 'drop_duplicates',\n",
       " 'droplevel',\n",
       " 'dropna',\n",
       " 'dtype',\n",
       " 'dtypes',\n",
       " 'duplicated',\n",
       " 'empty',\n",
       " 'eq',\n",
       " 'equals',\n",
       " 'ewm',\n",
       " 'expanding',\n",
       " 'explode',\n",
       " 'factorize',\n",
       " 'ffill',\n",
       " 'fillna',\n",
       " 'filter',\n",
       " 'first',\n",
       " 'first_valid_index',\n",
       " 'flags',\n",
       " 'floordiv',\n",
       " 'gambhir',\n",
       " 'ge',\n",
       " 'get',\n",
       " 'groupby',\n",
       " 'gt',\n",
       " 'hasnans',\n",
       " 'head',\n",
       " 'hist',\n",
       " 'iat',\n",
       " 'idxmax',\n",
       " 'idxmin',\n",
       " 'iloc',\n",
       " 'index',\n",
       " 'infer_objects',\n",
       " 'info',\n",
       " 'interpolate',\n",
       " 'is_monotonic',\n",
       " 'is_monotonic_decreasing',\n",
       " 'is_monotonic_increasing',\n",
       " 'is_unique',\n",
       " 'isin',\n",
       " 'isna',\n",
       " 'isnull',\n",
       " 'item',\n",
       " 'items',\n",
       " 'iteritems',\n",
       " 'keys',\n",
       " 'kurt',\n",
       " 'kurtosis',\n",
       " 'last',\n",
       " 'last_valid_index',\n",
       " 'le',\n",
       " 'loc',\n",
       " 'lt',\n",
       " 'mad',\n",
       " 'map',\n",
       " 'mask',\n",
       " 'max',\n",
       " 'mean',\n",
       " 'median',\n",
       " 'memory_usage',\n",
       " 'min',\n",
       " 'mod',\n",
       " 'mode',\n",
       " 'mul',\n",
       " 'multiply',\n",
       " 'name',\n",
       " 'nbytes',\n",
       " 'ndim',\n",
       " 'ne',\n",
       " 'nlargest',\n",
       " 'notna',\n",
       " 'notnull',\n",
       " 'nsmallest',\n",
       " 'nunique',\n",
       " 'pad',\n",
       " 'pct_change',\n",
       " 'pipe',\n",
       " 'plot',\n",
       " 'pop',\n",
       " 'pow',\n",
       " 'prod',\n",
       " 'product',\n",
       " 'quantile',\n",
       " 'radd',\n",
       " 'rank',\n",
       " 'ravel',\n",
       " 'rdiv',\n",
       " 'rdivmod',\n",
       " 'reindex',\n",
       " 'reindex_like',\n",
       " 'rename',\n",
       " 'rename_axis',\n",
       " 'reorder_levels',\n",
       " 'repeat',\n",
       " 'replace',\n",
       " 'resample',\n",
       " 'reset_index',\n",
       " 'rfloordiv',\n",
       " 'rmod',\n",
       " 'rmul',\n",
       " 'rohit',\n",
       " 'rolling',\n",
       " 'round',\n",
       " 'rpow',\n",
       " 'rsub',\n",
       " 'rtruediv',\n",
       " 'sample',\n",
       " 'searchsorted',\n",
       " 'sem',\n",
       " 'set_axis',\n",
       " 'set_flags',\n",
       " 'shape',\n",
       " 'shift',\n",
       " 'size',\n",
       " 'skew',\n",
       " 'slice_shift',\n",
       " 'sort_index',\n",
       " 'sort_values',\n",
       " 'squeeze',\n",
       " 'std',\n",
       " 'sub',\n",
       " 'subtract',\n",
       " 'sum',\n",
       " 'swapaxes',\n",
       " 'swaplevel',\n",
       " 'tail',\n",
       " 'take',\n",
       " 'to_clipboard',\n",
       " 'to_csv',\n",
       " 'to_dict',\n",
       " 'to_excel',\n",
       " 'to_frame',\n",
       " 'to_hdf',\n",
       " 'to_json',\n",
       " 'to_latex',\n",
       " 'to_list',\n",
       " 'to_markdown',\n",
       " 'to_numpy',\n",
       " 'to_period',\n",
       " 'to_pickle',\n",
       " 'to_sql',\n",
       " 'to_string',\n",
       " 'to_timestamp',\n",
       " 'to_xarray',\n",
       " 'transform',\n",
       " 'transpose',\n",
       " 'truediv',\n",
       " 'truncate',\n",
       " 'tz_convert',\n",
       " 'tz_localize',\n",
       " 'unique',\n",
       " 'unstack',\n",
       " 'update',\n",
       " 'value_counts',\n",
       " 'values',\n",
       " 'var',\n",
       " 'view',\n",
       " 'virat',\n",
       " 'where',\n",
       " 'xs']"
      ]
     },
     "execution_count": 43,
     "metadata": {},
     "output_type": "execute_result"
    }
   ],
   "source": [
    "dir(sc)"
   ]
  },
  {
   "cell_type": "code",
   "execution_count": 44,
   "id": "d3361d73",
   "metadata": {},
   "outputs": [
    {
     "data": {
      "text/plain": [
       "[5, 5, 23, 23, 34, 232, 995]"
      ]
     },
     "execution_count": 44,
     "metadata": {},
     "output_type": "execute_result"
    }
   ],
   "source": [
    "sorted(sc)"
   ]
  },
  {
   "cell_type": "code",
   "execution_count": 45,
   "id": "e5e56e85",
   "metadata": {},
   "outputs": [
    {
     "data": {
      "text/plain": [
       "995"
      ]
     },
     "execution_count": 45,
     "metadata": {},
     "output_type": "execute_result"
    }
   ],
   "source": [
    "max(sc)"
   ]
  },
  {
   "cell_type": "code",
   "execution_count": 46,
   "id": "efb34d9c",
   "metadata": {},
   "outputs": [
    {
     "data": {
      "text/plain": [
       "5"
      ]
     },
     "execution_count": 46,
     "metadata": {},
     "output_type": "execute_result"
    }
   ],
   "source": [
    "min(sc)"
   ]
  },
  {
   "cell_type": "markdown",
   "id": "c51783f7",
   "metadata": {},
   "source": [
    "##### we can check wheter any element is present in series or not "
   ]
  },
  {
   "cell_type": "code",
   "execution_count": 47,
   "id": "95ed0714",
   "metadata": {},
   "outputs": [
    {
     "data": {
      "text/plain": [
       "False"
      ]
     },
     "execution_count": 47,
     "metadata": {},
     "output_type": "execute_result"
    }
   ],
   "source": [
    "95 in sc"
   ]
  },
  {
   "cell_type": "markdown",
   "id": "b1b97f76",
   "metadata": {},
   "source": [
    "##### we can loop inside series just like normal list "
   ]
  },
  {
   "cell_type": "code",
   "execution_count": 48,
   "id": "576d6ddd",
   "metadata": {},
   "outputs": [
    {
     "name": "stdout",
     "output_type": "stream",
     "text": [
      "995\n",
      "232\n"
     ]
    }
   ],
   "source": [
    "for a in sc:\n",
    "    if (a>100):\n",
    "        print(a)"
   ]
  },
  {
   "cell_type": "markdown",
   "id": "0766e356",
   "metadata": {},
   "source": [
    "#### this way we can implement complex logic on values of series "
   ]
  },
  {
   "cell_type": "markdown",
   "id": "26dd7421",
   "metadata": {},
   "source": [
    "##### arithmetic and logical operations can be directly operated on series values "
   ]
  },
  {
   "cell_type": "code",
   "execution_count": 49,
   "id": "a98114c8",
   "metadata": {},
   "outputs": [
    {
     "data": {
      "text/plain": [
       "a          1095\n",
       "b           123\n",
       "c           105\n",
       "dhoni       134\n",
       "gambhir     105\n",
       "rohit       123\n",
       "virat       332\n",
       "Name: INDIA Cricket scores, dtype: int64"
      ]
     },
     "execution_count": 49,
     "metadata": {},
     "output_type": "execute_result"
    }
   ],
   "source": [
    "sc+100"
   ]
  },
  {
   "cell_type": "code",
   "execution_count": 50,
   "id": "d492d722",
   "metadata": {},
   "outputs": [
    {
     "data": {
      "text/plain": [
       "a           True\n",
       "b          False\n",
       "c          False\n",
       "dhoni      False\n",
       "gambhir    False\n",
       "rohit      False\n",
       "virat       True\n",
       "Name: INDIA Cricket scores, dtype: bool"
      ]
     },
     "execution_count": 50,
     "metadata": {},
     "output_type": "execute_result"
    }
   ],
   "source": [
    "sc>100"
   ]
  },
  {
   "cell_type": "markdown",
   "id": "706ff17c",
   "metadata": {},
   "source": [
    "##### we can plot a series using its built-in method plot() "
   ]
  },
  {
   "cell_type": "code",
   "execution_count": 51,
   "id": "8f3134c0",
   "metadata": {},
   "outputs": [
    {
     "data": {
      "text/plain": [
       "<Axes: ylabel='INDIA Cricket scores'>"
      ]
     },
     "execution_count": 51,
     "metadata": {},
     "output_type": "execute_result"
    },
    {
     "data": {
      "image/png": "[encoded data removed]",
      "text/plain": [
       "<Figure size 700x700 with 1 Axes>"
      ]
     },
     "metadata": {},
     "output_type": "display_data"
    }
   ],
   "source": [
    "sc.plot(kind='pie',colormap='hot',figsize=(7,7))"
   ]
  },
  {
   "cell_type": "code",
   "execution_count": 52,
   "id": "f51e971a",
   "metadata": {},
   "outputs": [
    {
     "data": {
      "text/plain": [
       "<Axes: >"
      ]
     },
     "execution_count": 52,
     "metadata": {},
     "output_type": "execute_result"
    },
    {
     "data": {
      "image/png": "[encoded data removed]",
      "text/plain": [
       "<Figure size 640x480 with 1 Axes>"
      ]
     },
     "metadata": {},
     "output_type": "display_data"
    }
   ],
   "source": [
    "sc.plot(kind='bar')"
   ]
  },
  {
   "cell_type": "code",
   "execution_count": 53,
   "id": "08afd4fa",
   "metadata": {},
   "outputs": [
    {
     "data": {
      "text/plain": [
       "<Axes: ylabel='Frequency'>"
      ]
     },
     "execution_count": 53,
     "metadata": {},
     "output_type": "execute_result"
    },
    {
     "data": {
      "image/png": "[encoded data removed]",
      "text/plain": [
       "<Figure size 640x480 with 1 Axes>"
      ]
     },
     "metadata": {},
     "output_type": "display_data"
    }
   ],
   "source": [
    "sc.plot(kind='hist')"
   ]
  },
  {
   "cell_type": "code",
   "execution_count": 54,
   "id": "9e92dc99",
   "metadata": {},
   "outputs": [
    {
     "data": {
      "text/plain": [
       "<Axes: >"
      ]
     },
     "execution_count": 54,
     "metadata": {},
     "output_type": "execute_result"
    },
    {
     "data": {
      "image/png": "[encoded data removed]",
      "text/plain": [
       "<Figure size 640x480 with 1 Axes>"
      ]
     },
     "metadata": {},
     "output_type": "display_data"
    }
   ],
   "source": [
    "sc.plot(kind='line')"
   ]
  },
  {
   "cell_type": "code",
   "execution_count": 55,
   "id": "3fc56497",
   "metadata": {},
   "outputs": [
    {
     "data": {
      "text/plain": [
       "<Axes: >"
      ]
     },
     "execution_count": 55,
     "metadata": {},
     "output_type": "execute_result"
    },
    {
     "data": {
      "image/png": "[encoded data removed]",
      "text/plain": [
       "<Figure size 640x480 with 1 Axes>"
      ]
     },
     "metadata": {},
     "output_type": "display_data"
    }
   ],
   "source": [
    "sc.plot(kind='box')"
   ]
  },
  {
   "cell_type": "code",
   "execution_count": 56,
   "id": "d18adf53",
   "metadata": {},
   "outputs": [
    {
     "data": {
      "text/plain": [
       "<Axes: ylabel='Density'>"
      ]
     },
     "execution_count": 56,
     "metadata": {},
     "output_type": "execute_result"
    },
    {
     "data": {
      "image/png": "[encoded data removed]",
      "text/plain": [
       "<Figure size 1000x1000 with 1 Axes>"
      ]
     },
     "metadata": {},
     "output_type": "display_data"
    }
   ],
   "source": [
    "sc.plot(kind='kde',figsize=(10,10))"
   ]
  },
  {
   "cell_type": "code",
   "execution_count": 57,
   "id": "4cf9a61c",
   "metadata": {},
   "outputs": [
    {
     "data": {
      "text/plain": [
       "<Axes: >"
      ]
     },
     "execution_count": 57,
     "metadata": {},
     "output_type": "execute_result"
    },
    {
     "data": {
      "image/png": "[encoded data removed]",
      "text/plain": [
       "<Figure size 640x480 with 1 Axes>"
      ]
     },
     "metadata": {},
     "output_type": "display_data"
    }
   ],
   "source": [
    "sc.plot(kind='area')"
   ]
  },
  {
   "cell_type": "markdown",
   "id": "c7221530",
   "metadata": {},
   "source": [
    "#### many built in matplotlib features of matplotlib are built inside plot function but it is recommended to use data visualisation tools and libraries"
   ]
  },
  {
   "cell_type": "markdown",
   "id": "f544b915",
   "metadata": {},
   "source": [
    "###### 10 commonly used functions of pandas series : we need to write inplace=True as parameter to affect changes in the original series, else only output is displayed and changes are not affected"
   ]
  },
  {
   "cell_type": "markdown",
   "id": "21c9a8c8",
   "metadata": {},
   "source": [
    "##### astype method: used to change type of series values , it is used to save memory in big datasets"
   ]
  },
  {
   "cell_type": "code",
   "execution_count": 58,
   "id": "94648bb8",
   "metadata": {},
   "outputs": [],
   "source": [
    "import sys"
   ]
  },
  {
   "cell_type": "code",
   "execution_count": 59,
   "id": "e3c9d993",
   "metadata": {},
   "outputs": [
    {
     "data": {
      "text/plain": [
       "812"
      ]
     },
     "execution_count": 59,
     "metadata": {},
     "output_type": "execute_result"
    }
   ],
   "source": [
    "sys.getsizeof(sc)"
   ]
  },
  {
   "cell_type": "code",
   "execution_count": 60,
   "id": "e1321ed7",
   "metadata": {},
   "outputs": [
    {
     "data": {
      "text/plain": [
       "763"
      ]
     },
     "execution_count": 60,
     "metadata": {},
     "output_type": "execute_result"
    }
   ],
   "source": [
    "sys.getsizeof(sc.astype('int8'))"
   ]
  },
  {
   "cell_type": "markdown",
   "id": "7f6aa617",
   "metadata": {},
   "source": [
    "##### between method : it allows to filter values between some range "
   ]
  },
  {
   "cell_type": "code",
   "execution_count": 61,
   "id": "352d77bc",
   "metadata": {},
   "outputs": [
    {
     "data": {
      "text/plain": [
       "a          False\n",
       "b           True\n",
       "c          False\n",
       "dhoni       True\n",
       "gambhir    False\n",
       "rohit       True\n",
       "virat       True\n",
       "Name: INDIA Cricket scores, dtype: bool"
      ]
     },
     "execution_count": 61,
     "metadata": {},
     "output_type": "execute_result"
    }
   ],
   "source": [
    "sc.between(10,900)"
   ]
  },
  {
   "cell_type": "code",
   "execution_count": 62,
   "id": "9e4257ea",
   "metadata": {},
   "outputs": [
    {
     "data": {
      "text/plain": [
       "b         23\n",
       "dhoni     34\n",
       "rohit     23\n",
       "virat    232\n",
       "Name: INDIA Cricket scores, dtype: int64"
      ]
     },
     "execution_count": 62,
     "metadata": {},
     "output_type": "execute_result"
    }
   ],
   "source": [
    "sc[sc.between(10,900)]"
   ]
  },
  {
   "cell_type": "markdown",
   "id": "8f41a7af",
   "metadata": {},
   "source": [
    "###### clip: it clips the given series to given range , clip(a,b) : it changes all values below a by a ,and values above b by b"
   ]
  },
  {
   "cell_type": "code",
   "execution_count": 63,
   "id": "4faa4137",
   "metadata": {},
   "outputs": [
    {
     "data": {
      "text/plain": [
       "a          900\n",
       "b          100\n",
       "c          100\n",
       "dhoni      100\n",
       "gambhir    100\n",
       "rohit      100\n",
       "virat      232\n",
       "Name: INDIA Cricket scores, dtype: int64"
      ]
     },
     "execution_count": 63,
     "metadata": {},
     "output_type": "execute_result"
    }
   ],
   "source": [
    "sc.clip(100,900)"
   ]
  },
  {
   "cell_type": "markdown",
   "id": "36726209",
   "metadata": {},
   "source": [
    "##### drop_duplicates : it removes all duplicate value observations ,we can keep the first unique occurence , or last unique occurence"
   ]
  },
  {
   "cell_type": "code",
   "execution_count": 64,
   "id": "fe036dfb",
   "metadata": {},
   "outputs": [
    {
     "data": {
      "text/plain": [
       "a        995\n",
       "b         23\n",
       "c          5\n",
       "dhoni     34\n",
       "virat    232\n",
       "Name: INDIA Cricket scores, dtype: int64"
      ]
     },
     "execution_count": 64,
     "metadata": {},
     "output_type": "execute_result"
    }
   ],
   "source": [
    "sc.drop_duplicates(keep='first')"
   ]
  },
  {
   "cell_type": "code",
   "execution_count": 65,
   "id": "f4d38bde",
   "metadata": {},
   "outputs": [
    {
     "data": {
      "text/plain": [
       "a          995\n",
       "dhoni       34\n",
       "gambhir      5\n",
       "rohit       23\n",
       "virat      232\n",
       "Name: INDIA Cricket scores, dtype: int64"
      ]
     },
     "execution_count": 65,
     "metadata": {},
     "output_type": "execute_result"
    }
   ],
   "source": [
    "sc.drop_duplicates(keep='last')"
   ]
  },
  {
   "cell_type": "markdown",
   "id": "a4642bb4",
   "metadata": {},
   "source": [
    "##### duplicated : it gives boolean value if value is duplicated then it is given as True , else False "
   ]
  },
  {
   "cell_type": "code",
   "execution_count": 66,
   "id": "4d55986b",
   "metadata": {},
   "outputs": [
    {
     "data": {
      "text/plain": [
       "a          False\n",
       "b          False\n",
       "c          False\n",
       "dhoni      False\n",
       "gambhir     True\n",
       "rohit       True\n",
       "virat      False\n",
       "Name: INDIA Cricket scores, dtype: bool"
      ]
     },
     "execution_count": 66,
     "metadata": {},
     "output_type": "execute_result"
    }
   ],
   "source": [
    "sc.duplicated()"
   ]
  },
  {
   "cell_type": "markdown",
   "id": "dd4f8c67",
   "metadata": {},
   "source": [
    "#### this way any column we access from dataset becomes series"
   ]
  },
  {
   "cell_type": "code",
   "execution_count": 67,
   "id": "8ea361d0",
   "metadata": {},
   "outputs": [
    {
     "data": {
      "text/plain": [
       "0     AFC North\n",
       "1     AFC North\n",
       "2     AFC North\n",
       "3           NaN\n",
       "4     AFC North\n",
       "        ...    \n",
       "91    NFC South\n",
       "92    NFC South\n",
       "93    NFC South\n",
       "94    NFC South\n",
       "95    NFC South\n",
       "Name: Division, Length: 96, dtype: object"
      ]
     },
     "execution_count": 67,
     "metadata": {},
     "output_type": "execute_result"
    }
   ],
   "source": [
    "df=pd.read_csv(\"2014-average-ticket-price.csv\")\n",
    "sc=df['Division']\n",
    "sc"
   ]
  },
  {
   "cell_type": "markdown",
   "id": "e648853b",
   "metadata": {},
   "source": [
    "##### to check all number of null or missing values from series we use isnull().sum()"
   ]
  },
  {
   "cell_type": "code",
   "execution_count": 68,
   "id": "1ea54c8e",
   "metadata": {},
   "outputs": [
    {
     "data": {
      "text/plain": [
       "5"
      ]
     },
     "execution_count": 68,
     "metadata": {},
     "output_type": "execute_result"
    }
   ],
   "source": [
    "sc.isnull().sum()"
   ]
  },
  {
   "cell_type": "markdown",
   "id": "c1994425",
   "metadata": {},
   "source": [
    "##### count() includes only  non-missing values , size includes all missing as well as existing values"
   ]
  },
  {
   "cell_type": "code",
   "execution_count": 69,
   "id": "8efdbbe4",
   "metadata": {},
   "outputs": [
    {
     "data": {
      "text/plain": [
       "91"
      ]
     },
     "execution_count": 69,
     "metadata": {},
     "output_type": "execute_result"
    }
   ],
   "source": [
    "sc.count()"
   ]
  },
  {
   "cell_type": "code",
   "execution_count": 70,
   "id": "c70c93c6",
   "metadata": {},
   "outputs": [
    {
     "data": {
      "text/plain": [
       "96"
      ]
     },
     "execution_count": 70,
     "metadata": {},
     "output_type": "execute_result"
    }
   ],
   "source": [
    "sc.size"
   ]
  },
  {
   "cell_type": "markdown",
   "id": "a2d05d0d",
   "metadata": {},
   "source": [
    "##### we can remove all missing values observations using dropna() method , to actually affect changes in the series we need to write dropna(inplace=True)"
   ]
  },
  {
   "cell_type": "code",
   "execution_count": 71,
   "id": "e37dba66",
   "metadata": {},
   "outputs": [
    {
     "data": {
      "text/plain": [
       "0     AFC North\n",
       "1     AFC North\n",
       "2     AFC North\n",
       "4     AFC North\n",
       "5     AFC North\n",
       "        ...    \n",
       "91    NFC South\n",
       "92    NFC South\n",
       "93    NFC South\n",
       "94    NFC South\n",
       "95    NFC South\n",
       "Name: Division, Length: 91, dtype: object"
      ]
     },
     "execution_count": 71,
     "metadata": {},
     "output_type": "execute_result"
    }
   ],
   "source": [
    "sc.dropna()"
   ]
  },
  {
   "cell_type": "markdown",
   "id": "077147e4",
   "metadata": {},
   "source": [
    "##### we can fill those missing value instead of dropping by frontfill method "
   ]
  },
  {
   "cell_type": "code",
   "execution_count": 72,
   "id": "3ae7fd78",
   "metadata": {},
   "outputs": [
    {
     "data": {
      "text/plain": [
       "0     AFC North\n",
       "1     AFC North\n",
       "2     AFC North\n",
       "3     AFC North\n",
       "4     AFC North\n",
       "        ...    \n",
       "91    NFC South\n",
       "92    NFC South\n",
       "93    NFC South\n",
       "94    NFC South\n",
       "95    NFC South\n",
       "Name: Division, Length: 96, dtype: object"
      ]
     },
     "execution_count": 72,
     "metadata": {},
     "output_type": "execute_result"
    }
   ],
   "source": [
    "sc.fillna(method='ffill')"
   ]
  },
  {
   "cell_type": "markdown",
   "id": "8ba3ef18",
   "metadata": {},
   "source": [
    "##### we can bring out observations having certain values using isin method "
   ]
  },
  {
   "cell_type": "code",
   "execution_count": 73,
   "id": "11bc765c",
   "metadata": {},
   "outputs": [
    {
     "data": {
      "text/plain": [
       "0     AFC North\n",
       "1     AFC North\n",
       "2     AFC North\n",
       "4     AFC North\n",
       "5     AFC North\n",
       "7     AFC North\n",
       "8     AFC North\n",
       "9     AFC North\n",
       "10    AFC North\n",
       "84    NFC South\n",
       "85    NFC South\n",
       "86    NFC South\n",
       "87    NFC South\n",
       "88    NFC South\n",
       "89    NFC South\n",
       "90    NFC South\n",
       "91    NFC South\n",
       "92    NFC South\n",
       "93    NFC South\n",
       "94    NFC South\n",
       "95    NFC South\n",
       "Name: Division, dtype: object"
      ]
     },
     "execution_count": 73,
     "metadata": {},
     "output_type": "execute_result"
    }
   ],
   "source": [
    "sc[sc.isin(['AFC North','NFC South'])]"
   ]
  },
  {
   "cell_type": "markdown",
   "id": "216005e6",
   "metadata": {},
   "source": [
    "##### apply function is used with lambda to apply specific condition on series values"
   ]
  },
  {
   "cell_type": "code",
   "execution_count": 74,
   "id": "d9f85d23",
   "metadata": {},
   "outputs": [
    {
     "data": {
      "text/plain": [
       "0      good\n",
       "1      good\n",
       "2      good\n",
       "3     False\n",
       "4      good\n",
       "      ...  \n",
       "91     True\n",
       "92     True\n",
       "93     True\n",
       "94     True\n",
       "95     True\n",
       "Name: Division, Length: 96, dtype: object"
      ]
     },
     "execution_count": 74,
     "metadata": {},
     "output_type": "execute_result"
    }
   ],
   "source": [
    "sc.apply(lambda y:'good' if y=='AFC North' else y=='NFC South')"
   ]
  },
  {
   "cell_type": "markdown",
   "id": "f94138d3",
   "metadata": {},
   "source": [
    "##### important and careful concept of head and copy function "
   ]
  },
  {
   "cell_type": "code",
   "execution_count": 75,
   "id": "04f05cdc",
   "metadata": {},
   "outputs": [
    {
     "data": {
      "text/plain": [
       "0    AFC North\n",
       "1    AFC North\n",
       "2    AFC North\n",
       "3          NaN\n",
       "4    AFC North\n",
       "Name: Division, dtype: object"
      ]
     },
     "execution_count": 75,
     "metadata": {},
     "output_type": "execute_result"
    }
   ],
   "source": [
    "sc.head()"
   ]
  },
  {
   "cell_type": "markdown",
   "id": "2f3fbfa1",
   "metadata": {},
   "source": [
    "##### now this shows us the current status of sc.head() , now we will store it in new variable , and the changes will be made in that variable"
   ]
  },
  {
   "cell_type": "code",
   "execution_count": 76,
   "id": "163473a5",
   "metadata": {},
   "outputs": [
    {
     "data": {
      "text/plain": [
       "0    AFC North\n",
       "1    AFC North\n",
       "2    AFC North\n",
       "3          NaN\n",
       "4    AFC North\n",
       "Name: Division, dtype: object"
      ]
     },
     "execution_count": 76,
     "metadata": {},
     "output_type": "execute_result"
    }
   ],
   "source": [
    "var=sc.head()\n",
    "var"
   ]
  },
  {
   "cell_type": "markdown",
   "id": "22983a93",
   "metadata": {},
   "source": [
    "##### now see the changes made in this new variable will also affect original series "
   ]
  },
  {
   "cell_type": "code",
   "execution_count": 77,
   "id": "356a1aa5",
   "metadata": {},
   "outputs": [
    {
     "data": {
      "text/plain": [
       "0    AFC North\n",
       "1        South\n",
       "2    AFC North\n",
       "3        South\n",
       "4    AFC North\n",
       "Name: Division, dtype: object"
      ]
     },
     "execution_count": 77,
     "metadata": {},
     "output_type": "execute_result"
    }
   ],
   "source": [
    "var[[1,3]]='South'\n",
    "var"
   ]
  },
  {
   "cell_type": "code",
   "execution_count": 78,
   "id": "1bfe28ac",
   "metadata": {},
   "outputs": [
    {
     "data": {
      "text/plain": [
       "0    AFC North\n",
       "1        South\n",
       "2    AFC North\n",
       "3        South\n",
       "4    AFC North\n",
       "Name: Division, dtype: object"
      ]
     },
     "execution_count": 78,
     "metadata": {},
     "output_type": "execute_result"
    }
   ],
   "source": [
    "sc.head()"
   ]
  },
  {
   "cell_type": "markdown",
   "id": "510975bb",
   "metadata": {},
   "source": [
    "##### to avoid this kind of situation , while storing anywhere any series or dataframe ,we use .copy () syntax "
   ]
  },
  {
   "cell_type": "code",
   "execution_count": 79,
   "id": "bb42072c",
   "metadata": {},
   "outputs": [],
   "source": [
    "c=sc.head().copy()"
   ]
  },
  {
   "cell_type": "code",
   "execution_count": 80,
   "id": "c979f7e0",
   "metadata": {},
   "outputs": [],
   "source": [
    "c[[1,3]]='East'"
   ]
  },
  {
   "cell_type": "code",
   "execution_count": 81,
   "id": "e9f35920",
   "metadata": {},
   "outputs": [
    {
     "data": {
      "text/plain": [
       "0    AFC North\n",
       "1         East\n",
       "2    AFC North\n",
       "3         East\n",
       "4    AFC North\n",
       "Name: Division, dtype: object"
      ]
     },
     "execution_count": 81,
     "metadata": {},
     "output_type": "execute_result"
    }
   ],
   "source": [
    "c"
   ]
  },
  {
   "cell_type": "code",
   "execution_count": 82,
   "id": "e898d360",
   "metadata": {},
   "outputs": [
    {
     "data": {
      "text/plain": [
       "0    AFC North\n",
       "1        South\n",
       "2    AFC North\n",
       "3        South\n",
       "4    AFC North\n",
       "Name: Division, dtype: object"
      ]
     },
     "execution_count": 82,
     "metadata": {},
     "output_type": "execute_result"
    }
   ],
   "source": [
    "sc.head()"
   ]
  },
  {
   "cell_type": "markdown",
   "id": "0bd861c5",
   "metadata": {},
   "source": [
    "##### same concept is followed for tail , as these head and tail give us actual part of data , hence to avoid original data changes , we use the copy of that data , so any changes made on copy are not affected in the original data "
   ]
  },
  {
   "cell_type": "markdown",
   "id": "3dadb84f",
   "metadata": {},
   "source": [
    "#### many more methods of series are part of dataframes notebook"
   ]
  },
  {
   "cell_type": "code",
   "execution_count": null,
   "id": "16a2bc5d",
   "metadata": {},
   "outputs": [],
   "source": []
  }
 ],
 "metadata": {
  "kernelspec": {
   "display_name": "Python 3 (ipykernel)",
   "language": "python",
   "name": "python3"
  },
  "language_info": {
   "codemirror_mode": {
    "name": "ipython",
    "version": 3
   },
   "file_extension": ".py",
   "mimetype": "text/x-python",
   "name": "python",
   "nbconvert_exporter": "python",
   "pygments_lexer": "ipython3",
   "version": "3.11.2"
  }
 },
 "nbformat": 4,
 "nbformat_minor": 5
}
