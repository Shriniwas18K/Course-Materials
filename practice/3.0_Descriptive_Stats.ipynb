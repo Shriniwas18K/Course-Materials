{
 "cells": [
  {
   "cell_type": "markdown",
   "id": "801f610d",
   "metadata": {},
   "source": [
    "#### descriptive statistics is used to summarize the numeric data of each individual numeric feature and get various details and informations from its distribution\n",
    "#### mean etc are measures of data in the descriptive stats , they are divided into three groups\n",
    "##### first order measures : mean , median , mode also known as central tendencies , they tell information about centre of data\n",
    "##### second order measures : std deviation and variance ,range , coefficient of range , IQR they tell information about the spread of data\n",
    "##### third order measures : skewness and kurtosis , they tell information about data distribution\n",
    "#### togehterly they are used to compare two  numeric features , no restrictions on integer and floating point data both are calculated and operated in above process by the same way only , no restrictions on scaling i.e. any number of rows of data can be used having any min,max value, but the numeric features can be transformed before these calculations using sklearn transformers if we wish\n",
    "#### Probability is never included nor required in these descriptive stats concepts"
   ]
  },
  {
   "cell_type": "markdown",
   "id": "3e14b3b5",
   "metadata": {},
   "source": [
    "### READ FROM MAM'S PPTS ABOUT ALL ABOVE CONTENT AND HOW THEY ARE CALCULATED AND WHAT IS SIGNIFICANCE OF EACH MEASURE"
   ]
  },
  {
   "cell_type": "markdown",
   "id": "f722a525",
   "metadata": {},
   "source": [
    "#### Concept of Moments : these are specific measures calculated sequentially one by one, either for population or sample on our wish, there is no specific purpose of making this seprate concept,idea is just that these few measures can be calculated consecutively and they are most useful for other predictions and applications\n",
    "##### Step 1 : calculate mean (also known as first order moment)\n",
    "##### Step 2 : calculate std-deviation and variance(also known as second order moment)\n",
    "##### Step 3 : calculate skewness (also known as third order moment) using third order moment forumla\n",
    "##### Step 4 : calculate kurtosis (also known as fourth order moment) using fourth order moment formula\n",
    "#### NOTE : kurtosis : it gives measure of fatness of tail of a distribution,more fatness more are outliers , in many places people wrongly say kurtosis is measure of peakedness of distribution , but it is not correct\n",
    "#### below are formulas for sample"
   ]
  },
  {
   "attachments": {
    "image-2.png": {
     "image/png": "[encoded data removed]"
    }
   },
   "cell_type": "markdown",
   "id": "3873ccc2",
   "metadata": {},
   "source": [
    "#### ![image-2.png](attachment:image-2.png)"
   ]
  },
  {
   "cell_type": "markdown",
   "id": "54eff821",
   "metadata": {},
   "source": [
    "##### here is just their coded implementation using inbuilt library functions of numpy ,pandas and scipy , we cant apply thier methods on list tuples,we need numpy arrays or pandas dataframes series only"
   ]
  },
  {
   "cell_type": "code",
   "execution_count": 1,
   "id": "d10eb1bf",
   "metadata": {},
   "outputs": [],
   "source": [
    "import numpy as np\n",
    "import pandas as pd\n",
    "import matplotlib.pyplot as plt\n",
    "import seaborn as sns"
   ]
  },
  {
   "cell_type": "code",
   "execution_count": 2,
   "id": "88fb2824",
   "metadata": {},
   "outputs": [
    {
     "data": {
      "text/html": [
       "<div>\n",
       "<style scoped>\n",
       "    .dataframe tbody tr th:only-of-type {\n",
       "        vertical-align: middle;\n",
       "    }\n",
       "\n",
       "    .dataframe tbody tr th {\n",
       "        vertical-align: top;\n",
       "    }\n",
       "\n",
       "    .dataframe thead th {\n",
       "        text-align: right;\n",
       "    }\n",
       "</style>\n",
       "<table border=\"1\" class=\"dataframe\">\n",
       "  <thead>\n",
       "    <tr style=\"text-align: right;\">\n",
       "      <th></th>\n",
       "      <th>gender</th>\n",
       "      <th>race/ethnicity</th>\n",
       "      <th>parental level of education</th>\n",
       "      <th>lunch</th>\n",
       "      <th>test preparation course</th>\n",
       "      <th>math score</th>\n",
       "      <th>reading score</th>\n",
       "      <th>writing score</th>\n",
       "    </tr>\n",
       "  </thead>\n",
       "  <tbody>\n",
       "    <tr>\n",
       "      <th>20</th>\n",
       "      <td>male</td>\n",
       "      <td>group D</td>\n",
       "      <td>high school</td>\n",
       "      <td>standard</td>\n",
       "      <td>none</td>\n",
       "      <td>66</td>\n",
       "      <td>69</td>\n",
       "      <td>63</td>\n",
       "    </tr>\n",
       "    <tr>\n",
       "      <th>21</th>\n",
       "      <td>female</td>\n",
       "      <td>group B</td>\n",
       "      <td>some college</td>\n",
       "      <td>free/reduced</td>\n",
       "      <td>completed</td>\n",
       "      <td>65</td>\n",
       "      <td>75</td>\n",
       "      <td>70</td>\n",
       "    </tr>\n",
       "    <tr>\n",
       "      <th>22</th>\n",
       "      <td>male</td>\n",
       "      <td>group D</td>\n",
       "      <td>some college</td>\n",
       "      <td>standard</td>\n",
       "      <td>none</td>\n",
       "      <td>44</td>\n",
       "      <td>54</td>\n",
       "      <td>53</td>\n",
       "    </tr>\n",
       "    <tr>\n",
       "      <th>23</th>\n",
       "      <td>female</td>\n",
       "      <td>group C</td>\n",
       "      <td>some high school</td>\n",
       "      <td>standard</td>\n",
       "      <td>none</td>\n",
       "      <td>69</td>\n",
       "      <td>73</td>\n",
       "      <td>73</td>\n",
       "    </tr>\n",
       "    <tr>\n",
       "      <th>24</th>\n",
       "      <td>male</td>\n",
       "      <td>group D</td>\n",
       "      <td>bachelor's degree</td>\n",
       "      <td>free/reduced</td>\n",
       "      <td>completed</td>\n",
       "      <td>74</td>\n",
       "      <td>71</td>\n",
       "      <td>80</td>\n",
       "    </tr>\n",
       "  </tbody>\n",
       "</table>\n",
       "</div>"
      ],
      "text/plain": [
       "    gender race/ethnicity parental level of education         lunch  \\\n",
       "20    male        group D                 high school      standard   \n",
       "21  female        group B                some college  free/reduced   \n",
       "22    male        group D                some college      standard   \n",
       "23  female        group C            some high school      standard   \n",
       "24    male        group D           bachelor's degree  free/reduced   \n",
       "\n",
       "   test preparation course  math score  reading score  writing score  \n",
       "20                    none          66             69             63  \n",
       "21               completed          65             75             70  \n",
       "22                    none          44             54             53  \n",
       "23                    none          69             73             73  \n",
       "24               completed          74             71             80  "
      ]
     },
     "execution_count": 2,
     "metadata": {},
     "output_type": "execute_result"
    }
   ],
   "source": [
    "df=pd.read_csv(\"StudentsPerformance.csv\")\n",
    "df=df[20:60]\n",
    "df.head()"
   ]
  },
  {
   "cell_type": "code",
   "execution_count": 3,
   "id": "93fb56e0",
   "metadata": {},
   "outputs": [],
   "source": [
    "var1=df['math score']"
   ]
  },
  {
   "cell_type": "markdown",
   "id": "32b3907a",
   "metadata": {},
   "source": [
    "### calculating first order measures"
   ]
  },
  {
   "cell_type": "code",
   "execution_count": 4,
   "id": "06b33bd7",
   "metadata": {},
   "outputs": [
    {
     "data": {
      "text/plain": [
       "62.2"
      ]
     },
     "execution_count": 4,
     "metadata": {},
     "output_type": "execute_result"
    }
   ],
   "source": [
    "np.mean(var1)"
   ]
  },
  {
   "cell_type": "code",
   "execution_count": 5,
   "id": "a6030df8",
   "metadata": {},
   "outputs": [
    {
     "data": {
      "text/plain": [
       "64.0"
      ]
     },
     "execution_count": 5,
     "metadata": {},
     "output_type": "execute_result"
    }
   ],
   "source": [
    "np.median(var1)"
   ]
  },
  {
   "cell_type": "code",
   "execution_count": 6,
   "id": "26ebed0c",
   "metadata": {},
   "outputs": [
    {
     "data": {
      "text/plain": [
       "Counter({66: 2,\n",
       "         65: 2,\n",
       "         44: 1,\n",
       "         69: 3,\n",
       "         74: 2,\n",
       "         73: 1,\n",
       "         67: 1,\n",
       "         70: 1,\n",
       "         62: 1,\n",
       "         63: 1,\n",
       "         56: 1,\n",
       "         40: 1,\n",
       "         97: 1,\n",
       "         81: 1,\n",
       "         50: 2,\n",
       "         75: 1,\n",
       "         57: 2,\n",
       "         55: 2,\n",
       "         58: 2,\n",
       "         53: 3,\n",
       "         59: 1,\n",
       "         82: 2,\n",
       "         77: 1,\n",
       "         88: 1,\n",
       "         71: 1,\n",
       "         33: 1,\n",
       "         52: 1,\n",
       "         0: 1})"
      ]
     },
     "execution_count": 6,
     "metadata": {},
     "output_type": "execute_result"
    }
   ],
   "source": [
    "from collections import Counter\n",
    "Counter(var1)\n",
    "#mode is 65 with 36 occurences"
   ]
  },
  {
   "cell_type": "markdown",
   "id": "90b7e379",
   "metadata": {},
   "source": [
    "### calculating second order measures\n",
    "###### standard deviation and variance"
   ]
  },
  {
   "cell_type": "code",
   "execution_count": 7,
   "id": "a99b475b",
   "metadata": {
    "scrolled": false
   },
   "outputs": [
    {
     "data": {
      "text/plain": [
       "[<matplotlib.lines.Line2D at 0x26a26de77d0>]"
      ]
     },
     "execution_count": 7,
     "metadata": {},
     "output_type": "execute_result"
    },
    {
     "data": {
      "image/png": "[encoded data removed]",
      "text/plain": [
       "<Figure size 640x480 with 1 Axes>"
      ]
     },
     "metadata": {},
     "output_type": "display_data"
    }
   ],
   "source": [
    "plt.plot(var1)"
   ]
  },
  {
   "cell_type": "code",
   "execution_count": 8,
   "id": "113c7059",
   "metadata": {},
   "outputs": [
    {
     "data": {
      "text/plain": [
       "16.26376340211576"
      ]
     },
     "execution_count": 8,
     "metadata": {},
     "output_type": "execute_result"
    }
   ],
   "source": [
    "np.std(var1)"
   ]
  },
  {
   "cell_type": "code",
   "execution_count": 9,
   "id": "53cba227",
   "metadata": {},
   "outputs": [
    {
     "data": {
      "text/plain": [
       "264.51000000000005"
      ]
     },
     "execution_count": 9,
     "metadata": {},
     "output_type": "execute_result"
    }
   ],
   "source": [
    "np.var(var1)"
   ]
  },
  {
   "cell_type": "markdown",
   "id": "6ce70869",
   "metadata": {},
   "source": [
    "##### range and coefficient of range"
   ]
  },
  {
   "cell_type": "code",
   "execution_count": 10,
   "id": "77113a31",
   "metadata": {},
   "outputs": [
    {
     "data": {
      "text/plain": [
       "97"
      ]
     },
     "execution_count": 10,
     "metadata": {},
     "output_type": "execute_result"
    }
   ],
   "source": [
    "range1=max(var1)-min(var1)\n",
    "range1"
   ]
  },
  {
   "cell_type": "code",
   "execution_count": 11,
   "id": "b6e991a9",
   "metadata": {},
   "outputs": [
    {
     "data": {
      "text/plain": [
       "1.0"
      ]
     },
     "execution_count": 11,
     "metadata": {},
     "output_type": "execute_result"
    }
   ],
   "source": [
    "coefrange1=(max(var1)-min(var1))/(max(var1)+min(var1))\n",
    "coefrange1"
   ]
  },
  {
   "cell_type": "markdown",
   "id": "35741e06",
   "metadata": {},
   "source": [
    "##### IQR calculation and boxplot"
   ]
  },
  {
   "cell_type": "code",
   "execution_count": 12,
   "id": "7aa7e4c8",
   "metadata": {},
   "outputs": [
    {
     "data": {
      "text/plain": [
       "count    40.000000\n",
       "mean     62.200000\n",
       "std      16.470953\n",
       "min       0.000000\n",
       "25%      54.500000\n",
       "50%      64.000000\n",
       "75%      71.500000\n",
       "max      97.000000\n",
       "Name: math score, dtype: float64"
      ]
     },
     "execution_count": 12,
     "metadata": {},
     "output_type": "execute_result"
    }
   ],
   "source": [
    "var1.describe()#five number summary"
   ]
  },
  {
   "cell_type": "code",
   "execution_count": 13,
   "id": "5ab340e8",
   "metadata": {},
   "outputs": [
    {
     "data": {
      "text/plain": [
       "17.0"
      ]
     },
     "execution_count": 13,
     "metadata": {},
     "output_type": "execute_result"
    }
   ],
   "source": [
    "IQR1=np.percentile(var1,75)-np.percentile(var1,25)\n",
    "IQR1"
   ]
  },
  {
   "cell_type": "code",
   "execution_count": 14,
   "id": "cc142532",
   "metadata": {},
   "outputs": [
    {
     "data": {
      "text/plain": [
       "<Axes: >"
      ]
     },
     "execution_count": 14,
     "metadata": {},
     "output_type": "execute_result"
    },
    {
     "data": {
      "image/png": "[encoded data removed]",
      "text/plain": [
       "<Figure size 640x480 with 1 Axes>"
      ]
     },
     "metadata": {},
     "output_type": "display_data"
    }
   ],
   "source": [
    "var1.plot(kind='box')"
   ]
  },
  {
   "cell_type": "markdown",
   "id": "13948d58",
   "metadata": {},
   "source": [
    "### calculating third order measures"
   ]
  },
  {
   "cell_type": "markdown",
   "id": "8931f68f",
   "metadata": {},
   "source": [
    "###### skewness using pearson second coefficient : no inbuilt library function for this , we need to write manual code for it as below using scipy , but it is not useful"
   ]
  },
  {
   "cell_type": "code",
   "execution_count": 15,
   "id": "ba6d1578",
   "metadata": {},
   "outputs": [],
   "source": [
    "from scipy import stats\n",
    "\n",
    "def pearson_second_coeff(data):\n",
    "    mean = np.mean(data)\n",
    "    mode = stats.mode(data)[0][0]\n",
    "    std_dev = np.std(data)\n",
    "    return 3 * (mean - mode) / std_dev"
   ]
  },
  {
   "cell_type": "code",
   "execution_count": 16,
   "id": "07735294",
   "metadata": {},
   "outputs": [
    {
     "name": "stderr",
     "output_type": "stream",
     "text": [
      "C:\\Users\\Admin\\AppData\\Local\\Temp\\ipykernel_7812\\1390043664.py:5: FutureWarning: Unlike other reduction functions (e.g. `skew`, `kurtosis`), the default behavior of `mode` typically preserves the axis it acts along. In SciPy 1.11.0, this behavior will change: the default value of `keepdims` will become False, the `axis` over which the statistic is taken will be eliminated, and the value None will no longer be accepted. Set `keepdims` to True or False to avoid this warning.\n",
      "  mode = stats.mode(data)[0][0]\n"
     ]
    },
    {
     "data": {
      "text/plain": [
       "1.697024195298458"
      ]
     },
     "execution_count": 16,
     "metadata": {},
     "output_type": "execute_result"
    }
   ],
   "source": [
    "skewness1=pearson_second_coeff(var1)\n",
    "skewness1"
   ]
  },
  {
   "cell_type": "markdown",
   "id": "d8348941",
   "metadata": {},
   "source": [
    "##### skewness is calculated as third order moment using pandas skew function : this is used"
   ]
  },
  {
   "cell_type": "code",
   "execution_count": 17,
   "id": "3217ce04",
   "metadata": {},
   "outputs": [
    {
     "data": {
      "text/plain": [
       "-1.1914324085696284"
      ]
     },
     "execution_count": 17,
     "metadata": {},
     "output_type": "execute_result"
    }
   ],
   "source": [
    "var1.skew()"
   ]
  },
  {
   "cell_type": "markdown",
   "id": "c668c7dc",
   "metadata": {},
   "source": [
    "##### see the diffirence in above values , the correct value is the -1.19 calculated using skew() function"
   ]
  },
  {
   "cell_type": "markdown",
   "id": "05f46bda",
   "metadata": {},
   "source": [
    "##### Fischer kurtosis of variable"
   ]
  },
  {
   "cell_type": "code",
   "execution_count": 18,
   "id": "2098bec5",
   "metadata": {},
   "outputs": [
    {
     "data": {
      "text/plain": [
       "3.653127189966477"
      ]
     },
     "execution_count": 18,
     "metadata": {},
     "output_type": "execute_result"
    }
   ],
   "source": [
    "from scipy.stats import kurtosis\n",
    "kurtosis(var1)#Fischer kurtosis"
   ]
  },
  {
   "cell_type": "markdown",
   "id": "15683c73",
   "metadata": {},
   "source": [
    "#### BINNING techniques\n",
    "##### i) equal width binning : two ways given below"
   ]
  },
  {
   "cell_type": "code",
   "execution_count": 20,
   "id": "f8848c56",
   "metadata": {},
   "outputs": [
    {
     "data": {
      "text/plain": [
       "(array([ 1,  0,  0,  1,  2, 13,  8, 10,  3,  2], dtype=int64),\n",
       " array([ 0. ,  9.7, 19.4, 29.1, 38.8, 48.5, 58.2, 67.9, 77.6, 87.3, 97. ]))"
      ]
     },
     "execution_count": 20,
     "metadata": {},
     "output_type": "execute_result"
    }
   ],
   "source": [
    "np.histogram(var1,bins=10)"
   ]
  },
  {
   "cell_type": "code",
   "execution_count": 24,
   "id": "22fd5f3c",
   "metadata": {},
   "outputs": [
    {
     "data": {
      "text/plain": [
       "(-0.097, 9.7]     1\n",
       "(9.7, 19.4]       0\n",
       "(19.4, 29.1]      0\n",
       "(29.1, 38.8]      1\n",
       "(38.8, 48.5]      2\n",
       "(48.5, 58.2]     13\n",
       "(58.2, 67.9]      8\n",
       "(67.9, 77.6]     10\n",
       "(77.6, 87.3]      3\n",
       "(87.3, 97.0]      2\n",
       "Name: math score, dtype: int64"
      ]
     },
     "execution_count": 24,
     "metadata": {},
     "output_type": "execute_result"
    }
   ],
   "source": [
    "pd.cut(var1,bins=10).value_counts(sort=False)"
   ]
  },
  {
   "cell_type": "markdown",
   "id": "678573f0",
   "metadata": {},
   "source": [
    "##### ii) equal frequency binning : no way manual implementation required"
   ]
  },
  {
   "cell_type": "code",
   "execution_count": null,
   "id": "21cb23c7",
   "metadata": {},
   "outputs": [],
   "source": []
  }
 ],
 "metadata": {
  "kernelspec": {
   "display_name": "Python 3 (ipykernel)",
   "language": "python",
   "name": "python3"
  },
  "language_info": {
   "codemirror_mode": {
    "name": "ipython",
    "version": 3
   },
   "file_extension": ".py",
   "mimetype": "text/x-python",
   "name": "python",
   "nbconvert_exporter": "python",
   "pygments_lexer": "ipython3",
   "version": "3.11.2"
  }
 },
 "nbformat": 4,
 "nbformat_minor": 5
}
